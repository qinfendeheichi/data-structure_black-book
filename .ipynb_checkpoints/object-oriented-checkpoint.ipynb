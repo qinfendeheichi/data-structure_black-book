{
 "cells": [
  {
   "cell_type": "markdown",
   "metadata": {},
   "source": [
    "# 术语"
   ]
  },
  {
   "cell_type": "markdown",
   "metadata": {},
   "source": [
    "## 基本术语"
   ]
  },
  {
   "cell_type": "markdown",
   "metadata": {},
   "source": [
    "### oject-对象"
   ]
  },
  {
   "cell_type": "markdown",
   "metadata": {},
   "source": [
    "### class-类"
   ]
  },
  {
   "cell_type": "markdown",
   "metadata": {},
   "source": [
    "每个对象都是类的一个实例"
   ]
  },
  {
   "cell_type": "markdown",
   "metadata": {},
   "source": [
    "child class可以特化（specialize）父类方法，也可以提供全新的方法来扩展（extend）父类"
   ]
  },
  {
   "cell_type": "markdown",
   "metadata": {},
   "source": [
    "### instance-实例"
   ]
  },
  {
   "cell_type": "markdown",
   "metadata": {},
   "source": [
    "### instance variable-实例变量"
   ]
  },
  {
   "cell_type": "markdown",
   "metadata": {},
   "source": [
    "类的定义中规定了的对象中所包含的变量"
   ]
  },
  {
   "cell_type": "markdown",
   "metadata": {},
   "source": [
    "### data member-数据成员"
   ]
  },
  {
   "cell_type": "markdown",
   "metadata": {},
   "source": [
    "即实例变量"
   ]
  },
  {
   "cell_type": "markdown",
   "metadata": {},
   "source": [
    "### method-方法"
   ]
  },
  {
   "cell_type": "markdown",
   "metadata": {},
   "source": [
    "### member function-成员函数"
   ]
  },
  {
   "cell_type": "markdown",
   "metadata": {},
   "source": [
    "## 特性术语"
   ]
  },
  {
   "cell_type": "markdown",
   "metadata": {},
   "source": [
    "### robustness-健壮性"
   ]
  },
  {
   "cell_type": "markdown",
   "metadata": {},
   "source": [
    "软件能处理在应用程序中没明确定义的异常输入"
   ]
  },
  {
   "cell_type": "markdown",
   "metadata": {},
   "source": [
    "例如：一个程序需要正整数，你却输入一个负数，那么这个程序需要“优雅”地从这个错误中恢复"
   ]
  },
  {
   "cell_type": "markdown",
   "metadata": {},
   "source": [
    "### adaptability-适应性"
   ]
  },
  {
   "cell_type": "markdown",
   "metadata": {},
   "source": [
    "evolvability-可进化性"
   ]
  },
  {
   "cell_type": "markdown",
   "metadata": {},
   "source": [
    "portability-可移植性  \n",
    "指软件以最少的改变运行在不同的硬件和操作系统平台上"
   ]
  },
  {
   "cell_type": "markdown",
   "metadata": {},
   "source": [
    "### reusability-可重用性"
   ]
  },
  {
   "cell_type": "markdown",
   "metadata": {},
   "source": [
    "## 面向对象设计原则"
   ]
  },
  {
   "cell_type": "markdown",
   "metadata": {},
   "source": [
    "### module-模块"
   ]
  },
  {
   "cell_type": "markdown",
   "metadata": {},
   "source": [
    "### abstraction-抽象化"
   ]
  },
  {
   "cell_type": "markdown",
   "metadata": {},
   "source": [
    "#### ADT(abstract data types)-抽象数据类型"
   ]
  },
  {
   "cell_type": "markdown",
   "metadata": {},
   "source": [
    "ADT是数据结构的数学模型，它规定了数据的存储类型，支持的操作和操作参数的类型"
   ]
  },
  {
   "cell_type": "markdown",
   "metadata": {},
   "source": [
    "#### ABC(abstract base class)-抽象基类"
   ]
  },
  {
   "cell_type": "markdown",
   "metadata": {},
   "source": [
    "#### concrete-class-具体类"
   ]
  },
  {
   "cell_type": "markdown",
   "metadata": {},
   "source": [
    "抽象基类不能被实例化  \n",
    "它规定了一个或者多个常用的方法，抽象类的所有实现都必须包括这些方法  \n",
    "从一个或者多个抽象类中继承成为具体类  \n"
   ]
  },
  {
   "cell_type": "markdown",
   "metadata": {},
   "source": [
    "### encapsulation-封装"
   ]
  },
  {
   "cell_type": "markdown",
   "metadata": {},
   "source": [
    "单下划线开头的类成员（数据成员和成员函数）是非公开的  \n",
    "它们不应该被依赖  \n",
    "自动生成文档时，会忽略这些内部成员"
   ]
  },
  {
   "cell_type": "code",
   "execution_count": 14,
   "metadata": {
    "scrolled": true
   },
   "outputs": [
    {
     "name": "stdout",
     "output_type": "stream",
     "text": [
      "50000000000000000000\n",
      "Wall time: 0 ns\n"
     ]
    }
   ],
   "source": [
    "%%time\n",
    "x=range(1000000000000000000000000)\n",
    "print(x[50000000000000000000])"
   ]
  },
  {
   "cell_type": "markdown",
   "metadata": {},
   "source": [
    "## 继承 "
   ]
  },
  {
   "cell_type": "markdown",
   "metadata": {},
   "source": [
    "### 查看类继承关系"
   ]
  },
  {
   "cell_type": "markdown",
   "metadata": {},
   "source": [
    "#### mro（method resolution order）-方法解析顺序"
   ]
  },
  {
   "cell_type": "code",
   "execution_count": 16,
   "metadata": {},
   "outputs": [
    {
     "name": "stdout",
     "output_type": "stream",
     "text": [
      "(<class 'KeyError'>, <class 'LookupError'>, <class 'Exception'>, <class 'BaseException'>, <class 'object'>)\n"
     ]
    }
   ],
   "source": [
    "import inspect\n",
    "print(inspect.getmro(KeyError)) "
   ]
  },
  {
   "cell_type": "markdown",
   "metadata": {},
   "source": [
    "### 查看成员变量和成员函数"
   ]
  },
  {
   "cell_type": "code",
   "execution_count": 48,
   "metadata": {},
   "outputs": [
    {
     "name": "stdout",
     "output_type": "stream",
     "text": [
      "['age', 'name', 'sex', 'show_name']\n"
     ]
    }
   ],
   "source": [
    "class Myclass:\n",
    "    \"\"\"It is a test a class\"\"\"\n",
    "    def __init__(self):\n",
    "        \"\"\"\n",
    "        creat three different variables\n",
    "        \n",
    "        the three variables are only used for testing\n",
    "        \n",
    "        name:str\n",
    "        sex:str\n",
    "        age:int\n",
    "        \"\"\"\n",
    "        self.name='haha'\n",
    "        self.sex='unknown'\n",
    "        self.age=0\n",
    "    def show_name(self):\n",
    "        \"\"\"print the name variable on screen\"\"\"\n",
    "        print('name:',self.name,sep='')\n",
    "x=Myclass()\n",
    "print([i for i in dir(x) if not i.startswith('_')])"
   ]
  },
  {
   "cell_type": "markdown",
   "metadata": {},
   "source": [
    "### super()语法"
   ]
  },
  {
   "cell_type": "markdown",
   "metadata": {},
   "source": [
    "调用继承构造函数机制，super.\\__init__(args)"
   ]
  },
  {
   "cell_type": "markdown",
   "metadata": {},
   "source": [
    "### 保护成员"
   ]
  },
  {
   "cell_type": "markdown",
   "metadata": {},
   "source": [
    "一个下划线的变量视为保护成员，两个下划线，视为私有变量"
   ]
  },
  {
   "cell_type": "markdown",
   "metadata": {},
   "source": [
    "### 静态函数"
   ]
  },
  {
   "cell_type": "markdown",
   "metadata": {},
   "source": [
    "实参self也得传递"
   ]
  },
  {
   "cell_type": "code",
   "execution_count": 59,
   "metadata": {},
   "outputs": [
    {
     "name": "stdout",
     "output_type": "stream",
     "text": [
      "LaoWang is a man\n"
     ]
    }
   ],
   "source": [
    "class People(object):\n",
    "    age = 30\n",
    "\n",
    "    def __init__(self,name):\n",
    "        self.name = name\n",
    "\n",
    "    @staticmethod       # 静态方法，不能访问实例变量和类变量，和类实际没啥关系，除了把它放到类里面，然后通过类来调用它。\n",
    "    def getname(self,sex):  # 虽然有self，但是需要调用的时候手动传入实例。\n",
    "        print('%s is a %s' %(self.name,sex))\n",
    "\n",
    "people = People('LaoWang')\n",
    "people.getname(people,'man')  # 想要访问实例变量，只能手动传递实例进入！如果写成：people.getname('man')会报错。"
   ]
  },
  {
   "cell_type": "markdown",
   "metadata": {},
   "source": [
    "### 类函数"
   ]
  },
  {
   "cell_type": "markdown",
   "metadata": {},
   "source": [
    " 类变量写在init外面，类方法实参无"
   ]
  },
  {
   "cell_type": "code",
   "execution_count": 63,
   "metadata": {},
   "outputs": [],
   "source": [
    "class People(object):\n",
    "    age = 30\n",
    "\n",
    "    def __init__(self,name):\n",
    "        self.name = name\n",
    "\n",
    "    @classmethod   # 类方法，只能访问类变量,不能访问实例变量，如果要访问实例变量，需要手动传入实例。\n",
    "    def getage(cls):\n",
    "        print('age is %s' % cls.age)"
   ]
  },
  {
   "cell_type": "code",
   "execution_count": 64,
   "metadata": {
    "scrolled": true
   },
   "outputs": [
    {
     "name": "stdout",
     "output_type": "stream",
     "text": [
      "age is 30\n",
      "age is 30\n"
     ]
    }
   ],
   "source": [
    "people=People('Du Hang')\n",
    "people.getage()\n",
    "People.getage()"
   ]
  },
  {
   "cell_type": "markdown",
   "metadata": {},
   "source": [
    "### property/setter/deleter"
   ]
  },
  {
   "cell_type": "markdown",
   "metadata": {},
   "source": [
    "@property定义只读属性，@setter定义可读可写属性，@deleter定义可读可写可删除属性"
   ]
  },
  {
   "cell_type": "markdown",
   "metadata": {},
   "source": [
    "#### property"
   ]
  },
  {
   "cell_type": "markdown",
   "metadata": {},
   "source": [
    "把方法当作属性调用，不加括号  \n",
    "age属性权限为只读，外部调用它会挂掉"
   ]
  },
  {
   "cell_type": "code",
   "execution_count": 7,
   "metadata": {},
   "outputs": [],
   "source": [
    "class People(object):\n",
    "    \n",
    "    age=0\n",
    "    def __init__(self,name):\n",
    "        self.name = name\n",
    "\n",
    "    @property\n",
    "    def age(self):\n",
    "        return self.age\n",
    "    \n",
    "people=People('Du Hang')\n",
    "# people.age\n",
    "# [i for i in dir(people) if not i.startswith('_')]"
   ]
  },
  {
   "cell_type": "markdown",
   "metadata": {},
   "source": [
    "#### setter"
   ]
  },
  {
   "cell_type": "code",
   "execution_count": null,
   "metadata": {},
   "outputs": [],
   "source": [
    "class People(object):\n",
    "    \n",
    "    def __init__(self,name):\n",
    "        self.name = name\n",
    "        self.age=0\n",
    "\n",
    "    @property\n",
    "    def age(self):\n",
    "        return self.age\n",
    "    @age.setter\n",
    "    def age(self,value):\n",
    "        self.age=value\n",
    "    \n",
    "people=People('Du Hang')\n",
    "people.age=1\n",
    "# people.age\n",
    "# [i for i in dir(people) if not i.startswith('_')]"
   ]
  },
  {
   "cell_type": "code",
   "execution_count": 17,
   "metadata": {},
   "outputs": [
    {
     "name": "stdout",
     "output_type": "stream",
     "text": [
      "hello\n",
      "Im doing task1\n"
     ]
    }
   ],
   "source": [
    "def add_hello(func):\n",
    "    def wrapper(*args,**kw):\n",
    "        print('hello')\n",
    "        return func(*args,**kw)\n",
    "    return wrapper\n",
    "\n",
    "def do_task(task_name):\n",
    "    print(\"Im doing\",task_name)\n",
    "\n",
    "do_task=add_hello(do_task)\n",
    "do_task('task1')"
   ]
  },
  {
   "cell_type": "markdown",
   "metadata": {},
   "source": [
    "### setter,deleter"
   ]
  },
  {
   "cell_type": "code",
   "execution_count": 1,
   "metadata": {},
   "outputs": [
    {
     "ename": "AttributeError",
     "evalue": "'People' object has no attribute '_'",
     "output_type": "error",
     "traceback": [
      "\u001b[1;31m---------------------------------------------------------------------------\u001b[0m",
      "\u001b[1;31mAttributeError\u001b[0m                            Traceback (most recent call last)",
      "\u001b[1;32m<ipython-input-1-61a5d3f6e87f>\u001b[0m in \u001b[0;36m<module>\u001b[1;34m\u001b[0m\n\u001b[0;32m     10\u001b[0m \u001b[0mpeople\u001b[0m \u001b[1;33m=\u001b[0m \u001b[0mPeople\u001b[0m\u001b[1;33m(\u001b[0m\u001b[1;34m'LaoWang'\u001b[0m\u001b[1;33m)\u001b[0m\u001b[1;33m\u001b[0m\u001b[1;33m\u001b[0m\u001b[0m\n\u001b[0;32m     11\u001b[0m \u001b[0mpeople\u001b[0m\u001b[1;33m.\u001b[0m\u001b[0m_name\u001b[0m\u001b[1;33m\u001b[0m\u001b[1;33m\u001b[0m\u001b[0m\n\u001b[1;32m---> 12\u001b[1;33m \u001b[0mpeople\u001b[0m\u001b[1;33m.\u001b[0m\u001b[0m_\u001b[0m\u001b[1;33m\u001b[0m\u001b[1;33m\u001b[0m\u001b[0m\n\u001b[0m\u001b[0;32m     13\u001b[0m \u001b[1;31m# people._name=20\u001b[0m\u001b[1;33m\u001b[0m\u001b[1;33m\u001b[0m\u001b[1;33m\u001b[0m\u001b[0m\n\u001b[0;32m     14\u001b[0m \u001b[1;31m# del people._name\u001b[0m\u001b[1;33m\u001b[0m\u001b[1;33m\u001b[0m\u001b[1;33m\u001b[0m\u001b[0m\n",
      "\u001b[1;31mAttributeError\u001b[0m: 'People' object has no attribute '_'"
     ]
    }
   ],
   "source": [
    "class People(object):\n",
    "    _age=30\n",
    "    def __init__(self,name):\n",
    "        self._name = name\n",
    "    \n",
    "    @property \n",
    "    def _age(self):\n",
    "        return self._age\n",
    "        \n",
    "people = People('LaoWang')\n",
    "people._name\n",
    "people._\n",
    "# people._name=20  \n",
    "# del people._name"
   ]
  },
  {
   "cell_type": "code",
   "execution_count": 91,
   "metadata": {},
   "outputs": [
    {
     "data": {
      "text/plain": [
       "[]"
      ]
     },
     "execution_count": 91,
     "metadata": {},
     "output_type": "execute_result"
    }
   ],
   "source": [
    "[i for i in dir(people) if not i.startswith('_')]"
   ]
  }
 ],
 "metadata": {
  "kernelspec": {
   "display_name": "Python 3",
   "language": "python",
   "name": "python3"
  },
  "language_info": {
   "codemirror_mode": {
    "name": "ipython",
    "version": 3
   },
   "file_extension": ".py",
   "mimetype": "text/x-python",
   "name": "python",
   "nbconvert_exporter": "python",
   "pygments_lexer": "ipython3",
   "version": "3.7.6"
  },
  "toc": {
   "base_numbering": 1,
   "nav_menu": {},
   "number_sections": true,
   "sideBar": true,
   "skip_h1_title": false,
   "title_cell": "Table of Contents",
   "title_sidebar": "Contents",
   "toc_cell": false,
   "toc_position": {
    "height": "calc(100% - 180px)",
    "left": "10px",
    "top": "150px",
    "width": "230px"
   },
   "toc_section_display": true,
   "toc_window_display": true
  }
 },
 "nbformat": 4,
 "nbformat_minor": 4
}
