{
 "cells": [
  {
   "cell_type": "markdown",
   "metadata": {},
   "source": [
    "# R"
   ]
  },
  {
   "cell_type": "markdown",
   "metadata": {},
   "source": [
    "## R-1.1"
   ]
  },
  {
   "cell_type": "markdown",
   "metadata": {},
   "source": [
    " 编写一个Python函数is_multiple(n,m),用来接收两个整数值n,m，如果n是m的倍数，即存在一个整数i使得n=mi,那么函数返回True，否则返回False"
   ]
  },
  {
   "cell_type": "code",
   "execution_count": 21,
   "metadata": {},
   "outputs": [],
   "source": [
    "def is_multiple(m,n):\n",
    "    if not isinstance(m,int) or not isinstance(n,int) :\n",
    "        return False  \n",
    "    elif m==0:\n",
    "        if n==0:\n",
    "            return True\n",
    "        else:\n",
    "            return False\n",
    "    elif n%m==0:\n",
    "        return True\n",
    "    else:\n",
    "        return False"
   ]
  },
  {
   "cell_type": "code",
   "execution_count": 28,
   "metadata": {
    "scrolled": true
   },
   "outputs": [
    {
     "data": {
      "text/plain": [
       "False"
      ]
     },
     "execution_count": 28,
     "metadata": {},
     "output_type": "execute_result"
    }
   ],
   "source": [
    "is_multiple(4,2)"
   ]
  },
  {
   "cell_type": "markdown",
   "metadata": {},
   "source": [
    "## R-1.2"
   ]
  },
  {
   "cell_type": "code",
   "execution_count": 47,
   "metadata": {},
   "outputs": [],
   "source": [
    "def iseven(k):\n",
    "    if k<=0:\n",
    "        while k<0:\n",
    "            k=k+2\n",
    "    else:\n",
    "        while k>0:\n",
    "            k=k-2  \n",
    "    if k==0:\n",
    "        return True\n",
    "    else:\n",
    "        return False"
   ]
  },
  {
   "cell_type": "code",
   "execution_count": 48,
   "metadata": {},
   "outputs": [
    {
     "data": {
      "text/plain": [
       "(True, False, True, True, False)"
      ]
     },
     "execution_count": 48,
     "metadata": {},
     "output_type": "execute_result"
    }
   ],
   "source": [
    "(iseven(2),iseven(3),iseven(0),iseven(-4),iseven(-7))"
   ]
  },
  {
   "cell_type": "markdown",
   "metadata": {},
   "source": [
    "## R-1.3"
   ]
  },
  {
   "cell_type": "code",
   "execution_count": 29,
   "metadata": {},
   "outputs": [],
   "source": [
    "def minmax(iterable):\n",
    "    if len(iterable)==0:\n",
    "        return None,None\n",
    "    min=9999999;max=-9999999\n",
    "    for i in iterable:\n",
    "        if i<min:\n",
    "            min=i\n",
    "        if i>max:\n",
    "            max=i\n",
    "    return min,max"
   ]
  },
  {
   "cell_type": "code",
   "execution_count": 37,
   "metadata": {},
   "outputs": [
    {
     "data": {
      "text/plain": [
       "(1, 6)"
      ]
     },
     "execution_count": 37,
     "metadata": {},
     "output_type": "execute_result"
    }
   ],
   "source": [
    "minmax([1,2,3,4,5,6])"
   ]
  },
  {
   "cell_type": "markdown",
   "metadata": {},
   "source": [
    "## R-1.4"
   ]
  },
  {
   "cell_type": "code",
   "execution_count": 45,
   "metadata": {},
   "outputs": [],
   "source": [
    "def sum_square(n):\n",
    "    sum=0\n",
    "    for i in range(1, n+1):\n",
    "        sum=sum+i*i\n",
    "    return sum "
   ]
  },
  {
   "cell_type": "code",
   "execution_count": 44,
   "metadata": {},
   "outputs": [
    {
     "data": {
      "text/plain": [
       "14"
      ]
     },
     "execution_count": 44,
     "metadata": {},
     "output_type": "execute_result"
    }
   ],
   "source": [
    "sum_square(3)"
   ]
  },
  {
   "cell_type": "markdown",
   "metadata": {},
   "source": [
    "## R-1.5"
   ]
  },
  {
   "cell_type": "code",
   "execution_count": 39,
   "metadata": {},
   "outputs": [],
   "source": [
    "def sum_square(n):\n",
    "    if not isinstance(n,int):\n",
    "        raise TypeError('输入的不是整数')\n",
    "    elif n<=0:\n",
    "        raise ValueError('输入整数应该大于0')\n",
    "    return sum([i*i for i in range(1,n+1)])"
   ]
  },
  {
   "cell_type": "code",
   "execution_count": 42,
   "metadata": {},
   "outputs": [
    {
     "data": {
      "text/plain": [
       "385"
      ]
     },
     "execution_count": 42,
     "metadata": {},
     "output_type": "execute_result"
    }
   ],
   "source": [
    "sum_square(10)"
   ]
  },
  {
   "cell_type": "markdown",
   "metadata": {},
   "source": [
    "## R-1.6"
   ]
  },
  {
   "cell_type": "code",
   "execution_count": 54,
   "metadata": {},
   "outputs": [],
   "source": [
    "def odd_square_sum(n):\n",
    "    if not isinstance(n,int):\n",
    "        raise TypeError('输入的不是整数')\n",
    "    elif n<=0:\n",
    "        raise ValueError('输入的不是正数')\n",
    "    sum=0\n",
    "    for i in range(1,n+1):\n",
    "        if i%2==1:\n",
    "            sum=sum+i*i\n",
    "    return sum"
   ]
  },
  {
   "cell_type": "code",
   "execution_count": 55,
   "metadata": {},
   "outputs": [
    {
     "data": {
      "text/plain": [
       "165"
      ]
     },
     "execution_count": 55,
     "metadata": {},
     "output_type": "execute_result"
    }
   ],
   "source": [
    "odd_square_sum(10)"
   ]
  },
  {
   "cell_type": "markdown",
   "metadata": {},
   "source": [
    "## R-1.7"
   ]
  },
  {
   "cell_type": "code",
   "execution_count": 49,
   "metadata": {},
   "outputs": [],
   "source": [
    "def odd_square_sum(n):\n",
    "    if not isinstance(n,int):\n",
    "        raise TypeError('输入的不是整数')\n",
    "    elif n<=0:\n",
    "        raise ValueError('输入的不是正数')\n",
    "    return sum(i*i for i in range(1,n+1) if i%2==1)"
   ]
  },
  {
   "cell_type": "code",
   "execution_count": 53,
   "metadata": {},
   "outputs": [
    {
     "data": {
      "text/plain": [
       "165"
      ]
     },
     "execution_count": 53,
     "metadata": {},
     "output_type": "execute_result"
    }
   ],
   "source": [
    "odd_square_sum(10)"
   ]
  },
  {
   "cell_type": "markdown",
   "metadata": {},
   "source": [
    "## R-1.8"
   ]
  },
  {
   "cell_type": "code",
   "execution_count": 60,
   "metadata": {},
   "outputs": [],
   "source": [
    "def same_value(string,k):\n",
    "    if not isinstance(string,str):\n",
    "        raise TypeError(\"输入的不是字符串\")\n",
    "    l=len(string)\n",
    "    if not -l<=k<0:\n",
    "        raise IndexError('输入的k超出长度')\n",
    "    return l+k"
   ]
  },
  {
   "cell_type": "code",
   "execution_count": 63,
   "metadata": {},
   "outputs": [
    {
     "data": {
      "text/plain": [
       "'d'"
      ]
     },
     "execution_count": 63,
     "metadata": {},
     "output_type": "execute_result"
    }
   ],
   "source": [
    "word='abcdefg'\n",
    "word[same_value(word,-4)]"
   ]
  },
  {
   "cell_type": "markdown",
   "metadata": {},
   "source": [
    "## R-1.9"
   ]
  },
  {
   "cell_type": "code",
   "execution_count": 65,
   "metadata": {},
   "outputs": [
    {
     "data": {
      "text/plain": [
       "[50, 60, 70, 80]"
      ]
     },
     "execution_count": 65,
     "metadata": {},
     "output_type": "execute_result"
    }
   ],
   "source": [
    "list(range(50,89,10))"
   ]
  },
  {
   "cell_type": "markdown",
   "metadata": {},
   "source": [
    "## R-1.10"
   ]
  },
  {
   "cell_type": "code",
   "execution_count": 66,
   "metadata": {},
   "outputs": [
    {
     "data": {
      "text/plain": [
       "[8, 6, 4, 2, 0, -2, -4, -6, -8]"
      ]
     },
     "execution_count": 66,
     "metadata": {},
     "output_type": "execute_result"
    }
   ],
   "source": [
    "list(range(8,-10,-2))"
   ]
  },
  {
   "cell_type": "markdown",
   "metadata": {},
   "source": [
    "## R-1.11"
   ]
  },
  {
   "cell_type": "code",
   "execution_count": 68,
   "metadata": {},
   "outputs": [
    {
     "data": {
      "text/plain": [
       "[1, 2, 4, 8, 16, 32, 64, 128, 256]"
      ]
     },
     "execution_count": 68,
     "metadata": {},
     "output_type": "execute_result"
    }
   ],
   "source": [
    "[2**i for i in range(9)]"
   ]
  },
  {
   "cell_type": "markdown",
   "metadata": {},
   "source": [
    "## R-1.12"
   ]
  },
  {
   "cell_type": "code",
   "execution_count": 69,
   "metadata": {},
   "outputs": [],
   "source": [
    "import random"
   ]
  },
  {
   "cell_type": "code",
   "execution_count": 152,
   "metadata": {},
   "outputs": [],
   "source": [
    "def my_choice(iterable):\n",
    "    x=random.Random()\n",
    "    index=x.randrange(0,len(iterable))\n",
    "    return iterable[index]"
   ]
  },
  {
   "cell_type": "code",
   "execution_count": 153,
   "metadata": {},
   "outputs": [
    {
     "data": {
      "text/plain": [
       "6"
      ]
     },
     "execution_count": 153,
     "metadata": {},
     "output_type": "execute_result"
    }
   ],
   "source": [
    "my_choice([1,24,5,32,6,13])"
   ]
  },
  {
   "cell_type": "markdown",
   "metadata": {},
   "source": [
    "# C"
   ]
  },
  {
   "cell_type": "markdown",
   "metadata": {},
   "source": [
    "## C-1.13"
   ]
  },
  {
   "cell_type": "code",
   "execution_count": 163,
   "metadata": {},
   "outputs": [],
   "source": [
    "def my_reverse(l:\"list with elements of int\")->\"reversed list\":\n",
    "    new_list=[]\n",
    "    for i in l:\n",
    "        new_list.insert(0,i)\n",
    "    return new_list"
   ]
  },
  {
   "cell_type": "markdown",
   "metadata": {},
   "source": [
    "运行时间对比"
   ]
  },
  {
   "cell_type": "code",
   "execution_count": 208,
   "metadata": {},
   "outputs": [],
   "source": [
    "import random\n",
    "l=list(range(100000))\n",
    "s=random.Random()\n",
    "s.shuffle(l)"
   ]
  },
  {
   "cell_type": "markdown",
   "metadata": {},
   "source": [
    "自己写的函数1"
   ]
  },
  {
   "cell_type": "code",
   "execution_count": 234,
   "metadata": {},
   "outputs": [
    {
     "name": "stdout",
     "output_type": "stream",
     "text": [
      "Wall time: 5.72 s\n"
     ]
    }
   ],
   "source": [
    "%%time\n",
    "new_list=my_reverse(l)"
   ]
  },
  {
   "cell_type": "markdown",
   "metadata": {},
   "source": [
    "系统自带函数1"
   ]
  },
  {
   "cell_type": "code",
   "execution_count": 298,
   "metadata": {},
   "outputs": [
    {
     "name": "stdout",
     "output_type": "stream",
     "text": [
      "Wall time: 960 µs\n"
     ]
    }
   ],
   "source": [
    "%%time\n",
    "x=l.reverse()"
   ]
  },
  {
   "cell_type": "markdown",
   "metadata": {},
   "source": [
    "系统自带函数2"
   ]
  },
  {
   "cell_type": "code",
   "execution_count": 299,
   "metadata": {},
   "outputs": [
    {
     "name": "stdout",
     "output_type": "stream",
     "text": [
      "Wall time: 2 ms\n"
     ]
    }
   ],
   "source": [
    "%%time\n",
    "x=l[::-1]"
   ]
  },
  {
   "cell_type": "markdown",
   "metadata": {},
   "source": [
    "## C-1.14"
   ]
  },
  {
   "cell_type": "code",
   "execution_count": 3,
   "metadata": {},
   "outputs": [],
   "source": [
    "def odd_multiply(iterable):\n",
    "    count=0\n",
    "    my_set=set()\n",
    "    for i in iterable:\n",
    "        if i%2==1:\n",
    "            if i not in my_set:\n",
    "                my_set.add(i)\n",
    "                count+=1\n",
    "        if count==2:\n",
    "            return True\n",
    "    return False"
   ]
  },
  {
   "cell_type": "code",
   "execution_count": 6,
   "metadata": {},
   "outputs": [
    {
     "data": {
      "text/plain": [
       "False"
      ]
     },
     "execution_count": 6,
     "metadata": {},
     "output_type": "execute_result"
    }
   ],
   "source": [
    "odd_multiply([11,4,2,11])"
   ]
  },
  {
   "cell_type": "markdown",
   "metadata": {},
   "source": [
    "## C-1.15"
   ]
  },
  {
   "cell_type": "code",
   "execution_count": 306,
   "metadata": {},
   "outputs": [],
   "source": [
    "def is_different(iterable):\n",
    "    if len(set(iterable))==len(iterable):\n",
    "        return True\n",
    "    else:\n",
    "        return False"
   ]
  },
  {
   "cell_type": "code",
   "execution_count": 309,
   "metadata": {},
   "outputs": [
    {
     "data": {
      "text/plain": [
       "(False, True)"
      ]
     },
     "execution_count": 309,
     "metadata": {},
     "output_type": "execute_result"
    }
   ],
   "source": [
    "(is_different(),is_different([1,2,3,4,5,6]))"
   ]
  },
  {
   "cell_type": "markdown",
   "metadata": {},
   "source": [
    "## C-1.16"
   ]
  },
  {
   "cell_type": "markdown",
   "metadata": {},
   "source": [
    "## C-1.17"
   ]
  },
  {
   "cell_type": "markdown",
   "metadata": {},
   "source": [
    "## C-1.18"
   ]
  },
  {
   "cell_type": "code",
   "execution_count": 9,
   "metadata": {},
   "outputs": [
    {
     "data": {
      "text/plain": [
       "[0, 2, 6, 12, 20, 30, 42, 56, 72, 90]"
      ]
     },
     "execution_count": 9,
     "metadata": {},
     "output_type": "execute_result"
    }
   ],
   "source": [
    "[i*(i+1) for i in range(0,10)]"
   ]
  },
  {
   "cell_type": "markdown",
   "metadata": {},
   "source": [
    "## C-1.19"
   ]
  },
  {
   "cell_type": "code",
   "execution_count": 17,
   "metadata": {},
   "outputs": [
    {
     "data": {
      "text/plain": [
       "['a',\n",
       " 'b',\n",
       " 'c',\n",
       " 'd',\n",
       " 'e',\n",
       " 'f',\n",
       " 'g',\n",
       " 'h',\n",
       " 'i',\n",
       " 'j',\n",
       " 'k',\n",
       " 'l',\n",
       " 'm',\n",
       " 'n',\n",
       " 'o',\n",
       " 'p',\n",
       " 'q',\n",
       " 'r',\n",
       " 's',\n",
       " 't',\n",
       " 'u',\n",
       " 'v',\n",
       " 'w',\n",
       " 'x',\n",
       " 'y',\n",
       " 'z']"
      ]
     },
     "execution_count": 17,
     "metadata": {},
     "output_type": "execute_result"
    }
   ],
   "source": [
    "[chr(i) for i in range(97,97+26)]"
   ]
  },
  {
   "cell_type": "markdown",
   "metadata": {},
   "source": [
    "## C-1.20"
   ]
  },
  {
   "cell_type": "code",
   "execution_count": 65,
   "metadata": {},
   "outputs": [],
   "source": [
    "import random\n",
    "\n",
    "def shuffle(my_list):\n",
    "    my_shuffle=random.Random()\n",
    "    new_list=[]\n",
    "    while my_list!=[]:\n",
    "        index=my_shuffle.randint(0,len(my_list)-1)\n",
    "        new_list.append(my_list[index])\n",
    "        my_list.remove(my_list[index])     \n",
    "    return new_list"
   ]
  },
  {
   "cell_type": "code",
   "execution_count": 66,
   "metadata": {},
   "outputs": [
    {
     "data": {
      "text/plain": [
       "[4, 6, 89, 1, 7, 3, 3]"
      ]
     },
     "execution_count": 66,
     "metadata": {},
     "output_type": "execute_result"
    }
   ],
   "source": [
    "shuffle([1,3,4,6,7,89,3])"
   ]
  },
  {
   "cell_type": "code",
   "execution_count": 54,
   "metadata": {},
   "outputs": [
    {
     "name": "stdout",
     "output_type": "stream",
     "text": [
      "[1, 2, 3, 1]\n"
     ]
    }
   ],
   "source": [
    "\n",
    "x=[1,2,3]\n",
    "x.append(1)\n",
    "print(x)"
   ]
  },
  {
   "cell_type": "markdown",
   "metadata": {},
   "source": [
    "## C-1.21"
   ]
  },
  {
   "cell_type": "markdown",
   "metadata": {},
   "source": [
    "### 如何输入多行"
   ]
  },
  {
   "cell_type": "markdown",
   "metadata": {},
   "source": [
    "jupyter notebook好像不行"
   ]
  },
  {
   "cell_type": "code",
   "execution_count": 1,
   "metadata": {},
   "outputs": [],
   "source": [
    "# lines=[]\n",
    "# while(1):\n",
    "#     try:        \n",
    "#         lines.insert(input())\n",
    "#     except:\n",
    "#         break\n",
    "        \n",
    "# for line in lines:\n"
   ]
  },
  {
   "cell_type": "markdown",
   "metadata": {},
   "source": [
    "使用iter函数"
   ]
  },
  {
   "cell_type": "code",
   "execution_count": 2,
   "metadata": {},
   "outputs": [
    {
     "name": "stdout",
     "output_type": "stream",
     "text": [
      "hello\n",
      "my name is philip\n",
      "end\n",
      "my name is philip\n",
      "hello\n"
     ]
    }
   ],
   "source": [
    "sentinel='end'\n",
    "lines=[]\n",
    "for line in iter(input,sentinel):\n",
    "    lines.insert(0,line)\n",
    "for line in lines:\n",
    "    print(line)"
   ]
  },
  {
   "cell_type": "markdown",
   "metadata": {},
   "source": [
    "## C-1.22"
   ]
  },
  {
   "cell_type": "code",
   "execution_count": 7,
   "metadata": {},
   "outputs": [
    {
     "name": "stdout",
     "output_type": "stream",
     "text": [
      "[3, 8, 15]\n"
     ]
    }
   ],
   "source": [
    "def inner_product(a,b):\n",
    "    c=[]\n",
    "    for i in range(len(a)):\n",
    "        c.append(a[i]*b[i])\n",
    "    return c\n",
    "print(inner_product([1,2,3],[3,4,5]))\n"
   ]
  },
  {
   "cell_type": "markdown",
   "metadata": {},
   "source": [
    "## C-1.23"
   ]
  },
  {
   "cell_type": "code",
   "execution_count": 17,
   "metadata": {
    "scrolled": true
   },
   "outputs": [
    {
     "name": "stdout",
     "output_type": "stream",
     "text": [
      "Don't try buffer overflow attacks in Python\n"
     ]
    }
   ],
   "source": [
    "try:\n",
    "    x=[1,2,3,4]\n",
    "    print(x[5])\n",
    "except IndexError as e:\n",
    "    print(\"Don't try buffer overflow attacks in Python\")\n",
    "#     print(e)"
   ]
  },
  {
   "cell_type": "markdown",
   "metadata": {},
   "source": [
    "## C-1.24"
   ]
  },
  {
   "cell_type": "code",
   "execution_count": 23,
   "metadata": {},
   "outputs": [
    {
     "data": {
      "text/plain": [
       "3"
      ]
     },
     "execution_count": 23,
     "metadata": {},
     "output_type": "execute_result"
    }
   ],
   "source": [
    "def count_vowel(string):\n",
    "    count=0\n",
    "    string=string.lower()\n",
    "    for char in string:\n",
    "        if char in ['a','e','i','o','u']:\n",
    "            count+=1\n",
    "    return count\n",
    "count_vowel('alsfAjowfjsld')\n",
    "        "
   ]
  },
  {
   "cell_type": "markdown",
   "metadata": {},
   "source": [
    "## C-1.25"
   ]
  },
  {
   "cell_type": "code",
   "execution_count": 37,
   "metadata": {},
   "outputs": [
    {
     "data": {
      "text/plain": [
       "'My name is philipIm twelve years old'"
      ]
     },
     "execution_count": 37,
     "metadata": {},
     "output_type": "execute_result"
    }
   ],
   "source": [
    "\n",
    "def delete_punct(string):\n",
    "    punct=[',',\"'\",'\"','.','!',';','!']\n",
    "    newstring=''\n",
    "    for char in string:\n",
    "        if char not in punct:\n",
    "            newstring+=char\n",
    "    return newstring\n",
    "delete_punct(\"My name is philip,I'm twelve years old!\")  \n",
    "            "
   ]
  },
  {
   "cell_type": "markdown",
   "metadata": {},
   "source": [
    "## C-1.26"
   ]
  },
  {
   "cell_type": "code",
   "execution_count": 40,
   "metadata": {},
   "outputs": [
    {
     "data": {
      "text/plain": [
       "False"
      ]
     },
     "execution_count": 40,
     "metadata": {},
     "output_type": "execute_result"
    }
   ],
   "source": [
    "def judge(a,b,c):\n",
    "    if a+b==c or b-c==a or a*b==c:\n",
    "        return True\n",
    "    return False\n",
    "judge(1,2,4)"
   ]
  },
  {
   "cell_type": "markdown",
   "metadata": {},
   "source": [
    "## C-1.27"
   ]
  },
  {
   "cell_type": "markdown",
   "metadata": {},
   "source": [
    "at the end of 1.8 in the textbook"
   ]
  },
  {
   "cell_type": "code",
   "execution_count": 57,
   "metadata": {},
   "outputs": [],
   "source": [
    "def factors(n):\n",
    "    k=1\n",
    "    while k*k<n:\n",
    "        if n%k==0:\n",
    "            yield k\n",
    "            yield n//k\n",
    "        k+=1\n",
    "    if k*k==n:\n",
    "        yield k"
   ]
  },
  {
   "cell_type": "code",
   "execution_count": 59,
   "metadata": {},
   "outputs": [
    {
     "data": {
      "text/plain": [
       "[1, 120, 2, 60, 3, 40, 4, 30, 5, 24, 6, 20, 8, 15, 10, 12]"
      ]
     },
     "execution_count": 59,
     "metadata": {},
     "output_type": "execute_result"
    }
   ],
   "source": [
    "list(factors(120))"
   ]
  },
  {
   "cell_type": "code",
   "execution_count": 60,
   "metadata": {},
   "outputs": [],
   "source": [
    "def new_factors(n):\n",
    "    k=1\n",
    "    l=[]\n",
    "    while k*k<n:\n",
    "        if n%k==0:\n",
    "            yield k\n",
    "            l.insert(0,k)\n",
    "        k=k+1\n",
    "    if k*k==n:\n",
    "        yield k\n",
    "    for i in l:\n",
    "        yield n//i"
   ]
  },
  {
   "cell_type": "code",
   "execution_count": 62,
   "metadata": {},
   "outputs": [
    {
     "data": {
      "text/plain": [
       "[1, 2, 3, 4, 5, 6, 8, 10, 12, 15, 20, 24, 30, 40, 60, 120]"
      ]
     },
     "execution_count": 62,
     "metadata": {},
     "output_type": "execute_result"
    }
   ],
   "source": [
    "x=new_factors(120)\n",
    "list(new_factors(120))"
   ]
  },
  {
   "cell_type": "markdown",
   "metadata": {},
   "source": [
    "##   C-1.28"
   ]
  },
  {
   "cell_type": "code",
   "execution_count": 72,
   "metadata": {},
   "outputs": [
    {
     "data": {
      "text/plain": [
       "5.0"
      ]
     },
     "execution_count": 72,
     "metadata": {},
     "output_type": "execute_result"
    }
   ],
   "source": [
    "def norm(v,p=None):\n",
    "    if p==None:\n",
    "        p=2\n",
    "    return sum(i**p for i in v)**(1/p)\n",
    "norm([3,4],2)"
   ]
  },
  {
   "cell_type": "markdown",
   "metadata": {},
   "source": [
    "# P"
   ]
  },
  {
   "cell_type": "markdown",
   "metadata": {},
   "source": [
    "## P-1.29"
   ]
  },
  {
   "cell_type": "markdown",
   "metadata": {},
   "source": [
    "method-1"
   ]
  },
  {
   "cell_type": "code",
   "execution_count": 133,
   "metadata": {},
   "outputs": [],
   "source": [
    "import copy\n",
    "import types\n",
    "x=['c','a','t','d','o','g']\n",
    "import copy\n",
    "def separate(l,result=''):\n",
    "    if len(result)==len(x):\n",
    "        yield result\n",
    "    else:\n",
    "        for i in range(len(l)):\n",
    "            r=copy.deepcopy(result)\n",
    "            r+=l[i]\n",
    "            temp=copy.deepcopy(l)\n",
    "            del temp[i]\n",
    "            yield separate(temp,r)     "
   ]
  },
  {
   "cell_type": "code",
   "execution_count": 134,
   "metadata": {},
   "outputs": [
    {
     "name": "stdout",
     "output_type": "stream",
     "text": [
      "['catdog', 'catdgo', 'catodg', 'catogd', 'catgdo', 'catgod', 'cadtog', 'cadtgo', 'cadotg', 'cadogt', 'cadgto', 'cadgot', 'caotdg', 'caotgd', 'caodtg', 'caodgt', 'caogtd', 'caogdt', 'cagtdo', 'cagtod', 'cagdto', 'cagdot', 'cagotd', 'cagodt', 'ctadog', 'ctadgo', 'ctaodg', 'ctaogd', 'ctagdo', 'ctagod', 'ctdaog', 'ctdago', 'ctdoag', 'ctdoga', 'ctdgao', 'ctdgoa', 'ctoadg', 'ctoagd', 'ctodag', 'ctodga', 'ctogad', 'ctogda', 'ctgado', 'ctgaod', 'ctgdao', 'ctgdoa', 'ctgoad', 'ctgoda', 'cdatog', 'cdatgo', 'cdaotg', 'cdaogt', 'cdagto', 'cdagot', 'cdtaog', 'cdtago', 'cdtoag', 'cdtoga', 'cdtgao', 'cdtgoa', 'cdoatg', 'cdoagt', 'cdotag', 'cdotga', 'cdogat', 'cdogta', 'cdgato', 'cdgaot', 'cdgtao', 'cdgtoa', 'cdgoat', 'cdgota', 'coatdg', 'coatgd', 'coadtg', 'coadgt', 'coagtd', 'coagdt', 'cotadg', 'cotagd', 'cotdag', 'cotdga', 'cotgad', 'cotgda', 'codatg', 'codagt', 'codtag', 'codtga', 'codgat', 'codgta', 'cogatd', 'cogadt', 'cogtad', 'cogtda', 'cogdat', 'cogdta', 'cgatdo', 'cgatod', 'cgadto', 'cgadot', 'cgaotd', 'cgaodt', 'cgtado', 'cgtaod', 'cgtdao', 'cgtdoa', 'cgtoad', 'cgtoda', 'cgdato', 'cgdaot', 'cgdtao', 'cgdtoa', 'cgdoat', 'cgdota', 'cgoatd', 'cgoadt', 'cgotad', 'cgotda', 'cgodat', 'cgodta', 'actdog', 'actdgo', 'actodg', 'actogd', 'actgdo', 'actgod', 'acdtog', 'acdtgo', 'acdotg', 'acdogt', 'acdgto', 'acdgot', 'acotdg', 'acotgd', 'acodtg', 'acodgt', 'acogtd', 'acogdt', 'acgtdo', 'acgtod', 'acgdto', 'acgdot', 'acgotd', 'acgodt', 'atcdog', 'atcdgo', 'atcodg', 'atcogd', 'atcgdo', 'atcgod', 'atdcog', 'atdcgo', 'atdocg', 'atdogc', 'atdgco', 'atdgoc', 'atocdg', 'atocgd', 'atodcg', 'atodgc', 'atogcd', 'atogdc', 'atgcdo', 'atgcod', 'atgdco', 'atgdoc', 'atgocd', 'atgodc', 'adctog', 'adctgo', 'adcotg', 'adcogt', 'adcgto', 'adcgot', 'adtcog', 'adtcgo', 'adtocg', 'adtogc', 'adtgco', 'adtgoc', 'adoctg', 'adocgt', 'adotcg', 'adotgc', 'adogct', 'adogtc', 'adgcto', 'adgcot', 'adgtco', 'adgtoc', 'adgoct', 'adgotc', 'aoctdg', 'aoctgd', 'aocdtg', 'aocdgt', 'aocgtd', 'aocgdt', 'aotcdg', 'aotcgd', 'aotdcg', 'aotdgc', 'aotgcd', 'aotgdc', 'aodctg', 'aodcgt', 'aodtcg', 'aodtgc', 'aodgct', 'aodgtc', 'aogctd', 'aogcdt', 'aogtcd', 'aogtdc', 'aogdct', 'aogdtc', 'agctdo', 'agctod', 'agcdto', 'agcdot', 'agcotd', 'agcodt', 'agtcdo', 'agtcod', 'agtdco', 'agtdoc', 'agtocd', 'agtodc', 'agdcto', 'agdcot', 'agdtco', 'agdtoc', 'agdoct', 'agdotc', 'agoctd', 'agocdt', 'agotcd', 'agotdc', 'agodct', 'agodtc', 'tcadog', 'tcadgo', 'tcaodg', 'tcaogd', 'tcagdo', 'tcagod', 'tcdaog', 'tcdago', 'tcdoag', 'tcdoga', 'tcdgao', 'tcdgoa', 'tcoadg', 'tcoagd', 'tcodag', 'tcodga', 'tcogad', 'tcogda', 'tcgado', 'tcgaod', 'tcgdao', 'tcgdoa', 'tcgoad', 'tcgoda', 'tacdog', 'tacdgo', 'tacodg', 'tacogd', 'tacgdo', 'tacgod', 'tadcog', 'tadcgo', 'tadocg', 'tadogc', 'tadgco', 'tadgoc', 'taocdg', 'taocgd', 'taodcg', 'taodgc', 'taogcd', 'taogdc', 'tagcdo', 'tagcod', 'tagdco', 'tagdoc', 'tagocd', 'tagodc', 'tdcaog', 'tdcago', 'tdcoag', 'tdcoga', 'tdcgao', 'tdcgoa', 'tdacog', 'tdacgo', 'tdaocg', 'tdaogc', 'tdagco', 'tdagoc', 'tdocag', 'tdocga', 'tdoacg', 'tdoagc', 'tdogca', 'tdogac', 'tdgcao', 'tdgcoa', 'tdgaco', 'tdgaoc', 'tdgoca', 'tdgoac', 'tocadg', 'tocagd', 'tocdag', 'tocdga', 'tocgad', 'tocgda', 'toacdg', 'toacgd', 'toadcg', 'toadgc', 'toagcd', 'toagdc', 'todcag', 'todcga', 'todacg', 'todagc', 'todgca', 'todgac', 'togcad', 'togcda', 'togacd', 'togadc', 'togdca', 'togdac', 'tgcado', 'tgcaod', 'tgcdao', 'tgcdoa', 'tgcoad', 'tgcoda', 'tgacdo', 'tgacod', 'tgadco', 'tgadoc', 'tgaocd', 'tgaodc', 'tgdcao', 'tgdcoa', 'tgdaco', 'tgdaoc', 'tgdoca', 'tgdoac', 'tgocad', 'tgocda', 'tgoacd', 'tgoadc', 'tgodca', 'tgodac', 'dcatog', 'dcatgo', 'dcaotg', 'dcaogt', 'dcagto', 'dcagot', 'dctaog', 'dctago', 'dctoag', 'dctoga', 'dctgao', 'dctgoa', 'dcoatg', 'dcoagt', 'dcotag', 'dcotga', 'dcogat', 'dcogta', 'dcgato', 'dcgaot', 'dcgtao', 'dcgtoa', 'dcgoat', 'dcgota', 'dactog', 'dactgo', 'dacotg', 'dacogt', 'dacgto', 'dacgot', 'datcog', 'datcgo', 'datocg', 'datogc', 'datgco', 'datgoc', 'daoctg', 'daocgt', 'daotcg', 'daotgc', 'daogct', 'daogtc', 'dagcto', 'dagcot', 'dagtco', 'dagtoc', 'dagoct', 'dagotc', 'dtcaog', 'dtcago', 'dtcoag', 'dtcoga', 'dtcgao', 'dtcgoa', 'dtacog', 'dtacgo', 'dtaocg', 'dtaogc', 'dtagco', 'dtagoc', 'dtocag', 'dtocga', 'dtoacg', 'dtoagc', 'dtogca', 'dtogac', 'dtgcao', 'dtgcoa', 'dtgaco', 'dtgaoc', 'dtgoca', 'dtgoac', 'docatg', 'docagt', 'doctag', 'doctga', 'docgat', 'docgta', 'doactg', 'doacgt', 'doatcg', 'doatgc', 'doagct', 'doagtc', 'dotcag', 'dotcga', 'dotacg', 'dotagc', 'dotgca', 'dotgac', 'dogcat', 'dogcta', 'dogact', 'dogatc', 'dogtca', 'dogtac', 'dgcato', 'dgcaot', 'dgctao', 'dgctoa', 'dgcoat', 'dgcota', 'dgacto', 'dgacot', 'dgatco', 'dgatoc', 'dgaoct', 'dgaotc', 'dgtcao', 'dgtcoa', 'dgtaco', 'dgtaoc', 'dgtoca', 'dgtoac', 'dgocat', 'dgocta', 'dgoact', 'dgoatc', 'dgotca', 'dgotac', 'ocatdg', 'ocatgd', 'ocadtg', 'ocadgt', 'ocagtd', 'ocagdt', 'octadg', 'octagd', 'octdag', 'octdga', 'octgad', 'octgda', 'ocdatg', 'ocdagt', 'ocdtag', 'ocdtga', 'ocdgat', 'ocdgta', 'ocgatd', 'ocgadt', 'ocgtad', 'ocgtda', 'ocgdat', 'ocgdta', 'oactdg', 'oactgd', 'oacdtg', 'oacdgt', 'oacgtd', 'oacgdt', 'oatcdg', 'oatcgd', 'oatdcg', 'oatdgc', 'oatgcd', 'oatgdc', 'oadctg', 'oadcgt', 'oadtcg', 'oadtgc', 'oadgct', 'oadgtc', 'oagctd', 'oagcdt', 'oagtcd', 'oagtdc', 'oagdct', 'oagdtc', 'otcadg', 'otcagd', 'otcdag', 'otcdga', 'otcgad', 'otcgda', 'otacdg', 'otacgd', 'otadcg', 'otadgc', 'otagcd', 'otagdc', 'otdcag', 'otdcga', 'otdacg', 'otdagc', 'otdgca', 'otdgac', 'otgcad', 'otgcda', 'otgacd', 'otgadc', 'otgdca', 'otgdac', 'odcatg', 'odcagt', 'odctag', 'odctga', 'odcgat', 'odcgta', 'odactg', 'odacgt', 'odatcg', 'odatgc', 'odagct', 'odagtc', 'odtcag', 'odtcga', 'odtacg', 'odtagc', 'odtgca', 'odtgac', 'odgcat', 'odgcta', 'odgact', 'odgatc', 'odgtca', 'odgtac', 'ogcatd', 'ogcadt', 'ogctad', 'ogctda', 'ogcdat', 'ogcdta', 'ogactd', 'ogacdt', 'ogatcd', 'ogatdc', 'ogadct', 'ogadtc', 'ogtcad', 'ogtcda', 'ogtacd', 'ogtadc', 'ogtdca', 'ogtdac', 'ogdcat', 'ogdcta', 'ogdact', 'ogdatc', 'ogdtca', 'ogdtac', 'gcatdo', 'gcatod', 'gcadto', 'gcadot', 'gcaotd', 'gcaodt', 'gctado', 'gctaod', 'gctdao', 'gctdoa', 'gctoad', 'gctoda', 'gcdato', 'gcdaot', 'gcdtao', 'gcdtoa', 'gcdoat', 'gcdota', 'gcoatd', 'gcoadt', 'gcotad', 'gcotda', 'gcodat', 'gcodta', 'gactdo', 'gactod', 'gacdto', 'gacdot', 'gacotd', 'gacodt', 'gatcdo', 'gatcod', 'gatdco', 'gatdoc', 'gatocd', 'gatodc', 'gadcto', 'gadcot', 'gadtco', 'gadtoc', 'gadoct', 'gadotc', 'gaoctd', 'gaocdt', 'gaotcd', 'gaotdc', 'gaodct', 'gaodtc', 'gtcado', 'gtcaod', 'gtcdao', 'gtcdoa', 'gtcoad', 'gtcoda', 'gtacdo', 'gtacod', 'gtadco', 'gtadoc', 'gtaocd', 'gtaodc', 'gtdcao', 'gtdcoa', 'gtdaco', 'gtdaoc', 'gtdoca', 'gtdoac', 'gtocad', 'gtocda', 'gtoacd', 'gtoadc', 'gtodca', 'gtodac', 'gdcato', 'gdcaot', 'gdctao', 'gdctoa', 'gdcoat', 'gdcota', 'gdacto', 'gdacot', 'gdatco', 'gdatoc', 'gdaoct', 'gdaotc', 'gdtcao', 'gdtcoa', 'gdtaco', 'gdtaoc', 'gdtoca', 'gdtoac', 'gdocat', 'gdocta', 'gdoact', 'gdoatc', 'gdotca', 'gdotac', 'gocatd', 'gocadt', 'goctad', 'goctda', 'gocdat', 'gocdta', 'goactd', 'goacdt', 'goatcd', 'goatdc', 'goadct', 'goadtc', 'gotcad', 'gotcda', 'gotacd', 'gotadc', 'gotdca', 'gotdac', 'godcat', 'godcta', 'godact', 'godatc', 'godtca', 'godtac']\n",
      "720\n"
     ]
    }
   ],
   "source": [
    "target=list(separate(x))\n",
    "result=[]\n",
    "\n",
    "while(target!=[]):\n",
    "    if isinstance(target[0],types.GeneratorType):\n",
    "        temp=list(target[0])\n",
    "        for j in temp:\n",
    "            target.append(j)\n",
    "        target=target[1:]\n",
    "    else:\n",
    "        result.append(target[0])\n",
    "        target=target[1:]\n",
    "print(result)\n",
    "print(len(result))        "
   ]
  },
  {
   "cell_type": "markdown",
   "metadata": {},
   "source": [
    "## P-1.30"
   ]
  },
  {
   "cell_type": "code",
   "execution_count": 130,
   "metadata": {},
   "outputs": [],
   "source": [
    "def mycount(x):\n",
    "    if not (isinstance(x, int) and x>=1):\n",
    "        raise ValueError('you should input a positive integer')\n",
    "    count=0\n",
    "    while x>=2:\n",
    "        x=x//2\n",
    "        count=count+1\n",
    "    return count\n",
    "        "
   ]
  },
  {
   "cell_type": "code",
   "execution_count": 132,
   "metadata": {},
   "outputs": [
    {
     "data": {
      "text/plain": [
       "10"
      ]
     },
     "execution_count": 132,
     "metadata": {},
     "output_type": "execute_result"
    }
   ],
   "source": [
    "mycount(1024)"
   ]
  },
  {
   "cell_type": "markdown",
   "metadata": {},
   "source": [
    "## P-1.31"
   ]
  },
  {
   "cell_type": "code",
   "execution_count": 181,
   "metadata": {},
   "outputs": [],
   "source": [
    "def find_money(receive,target):\n",
    "    \n",
    "    \"\"\"\n",
    "    receive:amount of money you have received from customers\n",
    "    target:amount of money customers should pay\n",
    "    \n",
    "    suppose that you have several kinds of coins and paper currency\n",
    "    \n",
    "    0.1 yuan\n",
    "    0.5yuan\n",
    "    1yuan\n",
    "    5yuan\n",
    "    10yuan\n",
    "    20yuan\n",
    "    50yuan\n",
    "    100yuan\n",
    "    \n",
    "    \"\"\"\n",
    "    face=[100,50,20,10,5,1,0.5,0.1]\n",
    "    dict={0.1:0,0.5:0,1:0,5:0,10:0,20:0,50:0,100:0}\n",
    "    rt=receive-target\n",
    "    for kind in face:\n",
    "        if rt//kind>0:\n",
    "            dict[kind]=rt//kind\n",
    "            rt=rt%kind\n",
    "           \n",
    "    print('please check the change!\\n')       \n",
    "    print('face value|','number')\n",
    "    print('----------|--------')\n",
    "    for kind,number in dict.items():\n",
    "        if number!=0:\n",
    "            print(str(kind)+' '*(10-len(str(kind)))+'|',int(number))\n",
    "            print('----------|--------')"
   ]
  },
  {
   "cell_type": "code",
   "execution_count": 185,
   "metadata": {},
   "outputs": [
    {
     "name": "stdout",
     "output_type": "stream",
     "text": [
      "please check the change!\n",
      "\n",
      "face value| number\n",
      "----------|--------\n",
      "0.1       | 2\n",
      "----------|--------\n",
      "0.5       | 1\n",
      "----------|--------\n",
      "1         | 3\n",
      "----------|--------\n",
      "50        | 1\n",
      "----------|--------\n"
     ]
    }
   ],
   "source": [
    "find_money(100,46.2)"
   ]
  },
  {
   "cell_type": "markdown",
   "metadata": {},
   "source": [
    "## P-1.32"
   ]
  },
  {
   "cell_type": "code",
   "execution_count": 216,
   "metadata": {},
   "outputs": [],
   "source": [
    "def calculate():\n",
    "    \n",
    "    \"\"\"\n",
    "    an easy version of a simple calculator\n",
    "    in this case:a+b*c=(a+b)*c\n",
    "    \"\"\"\n",
    "    result=None\n",
    "    sentinel='='\n",
    "    operand=None\n",
    "    for line in iter(input,sentinel):\n",
    "        target=line.strip()\n",
    "        if target!='' and (target[0] in [str(i) for i in range(10)]):\n",
    "            if result==None:\n",
    "                result=float(target)\n",
    "            else:\n",
    "                target=float(target)\n",
    "                if operand=='+':\n",
    "                    result=result+target\n",
    "                elif operand=='-':\n",
    "                    result=result-target\n",
    "                elif operand=='*':\n",
    "                    result=result*target\n",
    "                elif operand=='/':\n",
    "                    result=result*1.0/target\n",
    "        else:\n",
    "            operand=target\n",
    "    if not isinstance(target,(int,float)):\n",
    "        raise ValueError('you have input a wrong expression')\n",
    "    else:\n",
    "        print(result)"
   ]
  },
  {
   "cell_type": "code",
   "execution_count": 217,
   "metadata": {
    "scrolled": true
   },
   "outputs": [
    {
     "name": "stdout",
     "output_type": "stream",
     "text": [
      "12\n",
      "-\n",
      "2\n",
      "*\n",
      "3\n",
      "=\n",
      "30.0\n"
     ]
    }
   ],
   "source": [
    "calculate()"
   ]
  },
  {
   "cell_type": "markdown",
   "metadata": {},
   "source": [
    "## P 1.33"
   ]
  },
  {
   "cell_type": "markdown",
   "metadata": {},
   "source": [
    "calculator.py"
   ]
  },
  {
   "cell_type": "markdown",
   "metadata": {},
   "source": [
    "## P-1.34"
   ]
  },
  {
   "cell_type": "code",
   "execution_count": 51,
   "metadata": {
    "scrolled": true
   },
   "outputs": [
    {
     "name": "stdout",
     "output_type": "stream",
     "text": [
      "0     I will never spam my friends again\n",
      "1     I will never spam my friends again\n",
      "2     I will never spam my friends again\n",
      "3     I will never spam my friends again\n",
      "4     I will never spam my friends again\n",
      "5     I will never spam my friends again\n",
      "6     I will never spam my friends again\n",
      "7     I will never spam my friends again\n",
      "8     I will never spam my friends Hgain  <---- a wrong sentence\n",
      "9     I will never spam mG friends again  <---- a wrong sentence\n",
      "10    I will never spam my friends again\n",
      "11    I will never spam my friends again\n",
      "12    I will never spam my friends again\n",
      "13    I will never spam my friends again\n",
      "14    I will never spam my friends again\n",
      "15    I will never spam my friends again\n",
      "16    I will never spam my friends again\n",
      "17    I will never spam my friends again\n",
      "18    I will never spam my friends again\n",
      "19    I will never spam my friends again\n",
      "20    I will never spam my friends again\n",
      "21    I will never spam my friends again\n",
      "22    I will never spam my friends again\n",
      "23    I will never spam my friends again\n",
      "24    I will never spam my friends again\n",
      "25    I will never spam my friends again\n",
      "26    I will never spam my friends again\n",
      "27    I will never spam my friends again\n",
      "28    I will never spam my friends again\n",
      "29    I will never spam my friends again\n",
      "30    I will never spam my friends again\n",
      "31    I will never spam my friends again\n",
      "32    I will never spam my friends again\n",
      "33    I will never spam my friends again\n",
      "34    I will never spam my friends again\n",
      "35    I will never spam my friends again\n",
      "36    I will never spam my friends again\n",
      "37    I will never spam my friends again\n",
      "38    I wiGl never spam my friends again  <---- a wrong sentence\n",
      "39    I will never spam my friends again\n",
      "40    I will never spam my friends again\n",
      "41    I will never spam my friends again\n",
      "42    I will never spam my friends agaiO  <---- a wrong sentence\n",
      "43    I will never spam my friends agKin  <---- a wrong sentence\n",
      "44    Ijwill never spam my friends again  <---- a wrong sentence\n",
      "45    I will never spam my friends again\n",
      "46    I will never spam my friends again\n",
      "47    I will never spam my friends again\n",
      "48    I will never spam my friends again\n",
      "49    I will never spam my friends again\n",
      "50    I will never spam my friends again\n",
      "51    I will never spam my friends again\n",
      "52    I will never spam my friends again\n",
      "53    I will never spam my friends again\n",
      "54    I will never spam my friends again\n",
      "55    I will neverdspam my friends again  <---- a wrong sentence\n",
      "56    I will never spam my friends again\n",
      "57    I will never spam my friends again\n",
      "58    I will never spam my friends again\n",
      "59    I will never spam my friends again\n",
      "60    I will never spam my friends again\n",
      "61    I will never spam my friends again\n",
      "62    I will never spam my friends again\n",
      "63    I will neverjspam my friends again  <---- a wrong sentence\n",
      "64    I will never spam my friends again\n",
      "65    I will never spam my friends again\n",
      "66    I will never spam my friends again\n",
      "67    I will never spam my friends again\n",
      "68    I will never spam my friends again\n",
      "69    I will never spam my friends again\n",
      "70    I will never spam my friends again\n",
      "71    I will never spam my friends again\n",
      "72    I will never spam my friends again\n",
      "73    I will never spam my friends again\n",
      "74    I will never spam my friends again\n",
      "75    I will never spam my friends again\n",
      "76    I will never spam my friends again\n",
      "77    I will never spam my friends again\n",
      "78    I will never spam my friends again\n",
      "79    I will never spam my friends again\n",
      "80    I will never spam my friends again\n",
      "81    I will never spam my friends again\n",
      "82    I will never spam my friends again\n",
      "83    I will never spam my friends again\n",
      "84    I will never spam my friends again\n",
      "85    I will never spam my friends again\n",
      "86    I will never spam my friends again\n",
      "87    I will never spam my friends again\n",
      "88    I will never spam my friends again\n",
      "89    I will never spam my friends again\n",
      "90    I will never spam my friends again\n",
      "91    I will never spam my friends again\n",
      "92    I will never spam my friends again\n",
      "93    I will never spam my friends again\n",
      "94    I will never spam my friends again\n",
      "95    I will never spam my friends again\n",
      "96    I will never spam my friends again\n",
      "97    I will never spam my friends again\n",
      "98    I will never spam my friends again\n",
      "99    I will never spam my friends again\n"
     ]
    }
   ],
   "source": [
    "import random\n",
    "g=random.Random()\n",
    "\n",
    "a=list(range(100))\n",
    "error=[]\n",
    "sentence='I will never spam my friends again'\n",
    "l=len(sentence)\n",
    "\n",
    "letter_a=[chr(i+97) for i in range(26)]\n",
    "letter_A=[chr(i+65) for i in range(26)]\n",
    "\n",
    "for i in range(8):\n",
    "    e=g.choice(a)\n",
    "    a.remove(e)\n",
    "    error.append(e)  \n",
    "    \n",
    "for i in range(100):\n",
    "    print(i,' '*(5-len(str(i))),sep=' ',end='')\n",
    "    if i in error:\n",
    "        index=g.choice(list(range(l)))\n",
    "        new_char=sentence[index]\n",
    "        \n",
    "        \n",
    "        while new_char==sentence[index]:\n",
    "            a_A=g.choice([0,1])\n",
    "            if a_A==0:\n",
    "                new_char=g.choice(list(letter_a))\n",
    "            else:\n",
    "                new_char=g.choice(list(letter_A))\n",
    "        \n",
    "        print(sentence[0:index],new_char,sentence[index+1:],sep='',end='')\n",
    "        print('  <---- a wrong sentence')\n",
    "    else:\n",
    "        print(sentence)\n",
    "\n",
    "\n"
   ]
  },
  {
   "cell_type": "code",
   "execution_count": 47,
   "metadata": {},
   "outputs": [
    {
     "data": {
      "text/plain": [
       "'123123123123'"
      ]
     },
     "execution_count": 47,
     "metadata": {},
     "output_type": "execute_result"
    }
   ],
   "source": [
    "'123'*4"
   ]
  },
  {
   "cell_type": "markdown",
   "metadata": {},
   "source": [
    "## P-1.35"
   ]
  },
  {
   "cell_type": "code",
   "execution_count": 12,
   "metadata": {},
   "outputs": [
    {
     "name": "stdout",
     "output_type": "stream",
     "text": [
      "among 1000 times tests,same birthday happens 99164 times\n"
     ]
    }
   ],
   "source": [
    "import random\n",
    "\n",
    "def has_same_birthday(n):\n",
    "    bd=[]\n",
    "    g=random.Random()\n",
    "    for i in range(n):\n",
    "        bd.append(g.choice(list(range(365))))\n",
    "    \n",
    "    if len(set(bd))!=n:\n",
    "        return True\n",
    "    else:\n",
    "        return False\n",
    "\n",
    "count=0 \n",
    "for i in range(1000000):\n",
    "    if has_same_birthday(58):\n",
    "        count+=1\n",
    "\n",
    "print(\"among 1000000 times tests,same birthday happens %d times\" % (count))"
   ]
  },
  {
   "cell_type": "code",
   "execution_count": 179,
   "metadata": {},
   "outputs": [],
   "source": [
    "result=[]\n",
    "for i in range(50):\n",
    "    count=0\n",
    "    for j in range(10000):\n",
    "        if has_same_birthday(i):\n",
    "            count+=1\n",
    "    result.append(count)"
   ]
  },
  {
   "cell_type": "code",
   "execution_count": 1,
   "metadata": {},
   "outputs": [
    {
     "ename": "NameError",
     "evalue": "name 'result' is not defined",
     "output_type": "error",
     "traceback": [
      "\u001b[1;31m---------------------------------------------------------------------------\u001b[0m",
      "\u001b[1;31mNameError\u001b[0m                                 Traceback (most recent call last)",
      "\u001b[1;32m<ipython-input-1-3922e04fa736>\u001b[0m in \u001b[0;36m<module>\u001b[1;34m\u001b[0m\n\u001b[0;32m      2\u001b[0m \u001b[1;33m\u001b[0m\u001b[0m\n\u001b[0;32m      3\u001b[0m \u001b[0max\u001b[0m\u001b[1;33m,\u001b[0m\u001b[0mfig\u001b[0m\u001b[1;33m=\u001b[0m\u001b[0mplt\u001b[0m\u001b[1;33m.\u001b[0m\u001b[0msubplots\u001b[0m\u001b[1;33m(\u001b[0m\u001b[1;33m)\u001b[0m\u001b[1;33m\u001b[0m\u001b[1;33m\u001b[0m\u001b[0m\n\u001b[1;32m----> 4\u001b[1;33m \u001b[0mp\u001b[0m\u001b[1;33m=\u001b[0m\u001b[1;33m[\u001b[0m\u001b[0mi\u001b[0m\u001b[1;33m/\u001b[0m\u001b[1;36m100\u001b[0m \u001b[1;32mfor\u001b[0m \u001b[0mi\u001b[0m \u001b[1;32min\u001b[0m \u001b[0mresult\u001b[0m\u001b[1;33m]\u001b[0m\u001b[1;33m\u001b[0m\u001b[1;33m\u001b[0m\u001b[0m\n\u001b[0m\u001b[0;32m      5\u001b[0m \u001b[1;33m\u001b[0m\u001b[0m\n\u001b[0;32m      6\u001b[0m \u001b[0mplt\u001b[0m\u001b[1;33m.\u001b[0m\u001b[0mxlabel\u001b[0m\u001b[1;33m(\u001b[0m\u001b[1;34m'the number of people in a room'\u001b[0m\u001b[1;33m)\u001b[0m\u001b[1;33m\u001b[0m\u001b[1;33m\u001b[0m\u001b[0m\n",
      "\u001b[1;31mNameError\u001b[0m: name 'result' is not defined"
     ]
    }
   ],
   "source": [
    "import matplotlib.pyplot as plt\n",
    "\n",
    "ax,fig=plt.subplots()\n",
    "p=[i/100 for i in result]\n",
    "\n",
    "plt.xlabel('the number of people in a room')\n",
    "plt.ylabel('the p of the same birthday(%)')\n",
    "plt.title('same birthday paradox')\n",
    "plt.plot(p)"
   ]
  },
  {
   "cell_type": "markdown",
   "metadata": {},
   "source": [
    "## P-1.36"
   ]
  },
  {
   "cell_type": "code",
   "execution_count": 187,
   "metadata": {},
   "outputs": [
    {
     "name": "stdout",
     "output_type": "stream",
     "text": [
      "please input some wordsa b c a b c cc c\n",
      "{'a': 2, 'b': 2, 'c': 3, 'cc': 1}\n"
     ]
    }
   ],
   "source": [
    "x=input('please input some words')\n",
    "w=x.split()\n",
    "word_dict={}\n",
    "for i in w:\n",
    "    if i in word_dict.keys():\n",
    "        word_dict[i]+=1\n",
    "    else:\n",
    "        word_dict[i]=1\n",
    "print(word_dict)"
   ]
  }
 ],
 "metadata": {
  "kernelspec": {
   "display_name": "Python 3",
   "language": "python",
   "name": "python3"
  },
  "language_info": {
   "codemirror_mode": {
    "name": "ipython",
    "version": 3
   },
   "file_extension": ".py",
   "mimetype": "text/x-python",
   "name": "python",
   "nbconvert_exporter": "python",
   "pygments_lexer": "ipython3",
   "version": "3.7.6"
  },
  "toc": {
   "base_numbering": 1,
   "nav_menu": {},
   "number_sections": true,
   "sideBar": true,
   "skip_h1_title": false,
   "title_cell": "Table of Contents",
   "title_sidebar": "Contents",
   "toc_cell": false,
   "toc_position": {},
   "toc_section_display": true,
   "toc_window_display": true
  }
 },
 "nbformat": 4,
 "nbformat_minor": 4
}
