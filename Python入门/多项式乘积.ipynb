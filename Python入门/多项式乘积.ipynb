{
 "cells": [
  {
   "cell_type": "markdown",
   "metadata": {},
   "source": [
    "# Polynomial addition and product"
   ]
  },
  {
   "cell_type": "markdown",
   "metadata": {},
   "source": [
    "## example"
   ]
  },
  {
   "cell_type": "markdown",
   "metadata": {},
   "source": [
    "Input:  \n",
    "4 3 4 -5 2 6 1 -2 0  \n",
    "3 5 20 -7 4 3 1  \n",
    "  \n",
    "    \n",
    "Output:  \n",
    "15 24 -25 22 30 21 -10 20 -21 8 35 6 -33 5 14 4 -15 3 18 2 -6 1   \n",
    "5 20 -4 4 -5 2 9 1 -2 0 "
   ]
  },
  {
   "cell_type": "markdown",
   "metadata": {},
   "source": [
    "## interpretation"
   ]
  },
  {
   "cell_type": "markdown",
   "metadata": {},
   "source": [
    "abstract:product and sum of two polynomial formula"
   ]
  },
  {
   "cell_type": "markdown",
   "metadata": {},
   "source": [
    "There are two lines of input:  \n",
    "\n",
    "    the first line:\n",
    "    \n",
    "        the first number -- the nubmer of items in the first polynomial formula  \n",
    "        then, the coefficient, exponent of the first item  \n",
    "        coefficient,exponent of the second item  \n",
    "        …………  \n",
    "    the second line:\n",
    "     \n",
    "        a different polynomial formula\n",
    "        the same as the first line\n",
    "    "
   ]
  },
  {
   "cell_type": "markdown",
   "metadata": {},
   "source": [
    "There are also two lines of output:\n",
    "\n",
    "     the first line:\n",
    "     \n",
    "         product of two polynomial formula\n",
    "  \n",
    "\n",
    "     the second line:\n",
    "     \n",
    "         sum of two polynomial formula\n",
    "         \n",
    "         \n",
    "     Note: results are shown by descending order with respect to power"
   ]
  },
  {
   "cell_type": "markdown",
   "metadata": {},
   "source": [
    "the first line of input :   \n",
    "4 units:  $3x^4-5x^{2}+6x-2x^0$  \n",
    "the second line of input :   \n",
    "3 units   $5x^{20}-7x^4+3x^1$  \n",
    "  \n",
    "the first line of output:  \n",
    "$(3x^4-5x^{2}+6x-2x^0)(5x^{20}-7x^4+3x^1)=15x^{24}-25x^{22}+30x^{21}-10x^20-21x^8+35x^6-33x^5+14x^{4}-15x^3+18x^2-6x^1$   \n",
    "the second line of output:  \n",
    "$(3x^4-5x^{2}+6x-2x^0)+(5x^{20}-7x^4+3x^1)=5x^{20}-4x^{4}-5x^{2}+9x^1-2x^0$ "
   ]
  },
  {
   "cell_type": "markdown",
   "metadata": {},
   "source": [
    "## code"
   ]
  },
  {
   "cell_type": "code",
   "execution_count": 114,
   "metadata": {},
   "outputs": [
    {
     "name": "stdout",
     "output_type": "stream",
     "text": [
      "Input:\n",
      "4 3 4 -5 2 6 1 -2 0\n",
      "3 5 20 -7 4 3 1\n",
      "\n",
      "Output:\n",
      "15 24 -25 22 30 21 -10 20 -21 8 35 6 -33 5 14 4 -15 3 18 2 -6 1 \n",
      "5 20 -4 4 -5 2 9 1 -2 0 "
     ]
    }
   ],
   "source": [
    "print('Input:')\n",
    "\n",
    "dict1,dict2={},{}\n",
    "first,second=input(),input()\n",
    "data1,data2=first.split(),second.split()\n",
    "dict1['number'],dict2['number']=int(data1[0]),int(data2[0])\n",
    "for i in range(dict1['number']):\n",
    "    dict1[int(data1[i*2+2])]=int(data1[i*2+1])\n",
    "for i in range(dict2['number']):\n",
    "    dict2[int(data2[i*2+2])]=int(data2[i*2+1])   \n",
    "\n",
    "k1,k2=dict1.keys(),dict2.keys()\n",
    "result_plus={}\n",
    "for exp,coe in dict1.items():\n",
    "    if exp!='number':\n",
    "        if exp not in result_plus.keys():\n",
    "            result_plus[exp]=coe\n",
    "        else:\n",
    "            result_plus[exp]=result_plus[exp]+coe\n",
    "\n",
    "for exp,coe in dict2.items():\n",
    "    if exp!='number':\n",
    "        if exp not in result_plus.keys():\n",
    "            result_plus[exp]=coe\n",
    "        else:\n",
    "            result_plus[exp]=coe+result_plus[exp]\n",
    "\n",
    "result_mul={}\n",
    "for exp1 in dict1.keys():\n",
    "    for exp2 in dict2.keys():\n",
    "        if exp1!='number' and exp2!='number':\n",
    "            if exp1+exp2 not in result_mul.keys():\n",
    "                result_mul[exp1+exp2]=dict1[exp1]*dict2[exp2]\n",
    "            else:\n",
    "                result_mul[exp1+exp2]+=dict1[exp1]*dict2[exp2]\n",
    "                \n",
    "k1,k2=list(result_mul.keys()),list(result_plus.keys())\n",
    "k1.sort();k2.sort()\n",
    "k1,k2=k1[::-1],k2[::-1]\n",
    "print()\n",
    "print('Output:')\n",
    "for exp in k1:\n",
    "    print(result_mul[exp],exp,end=' ',sep=' ')\n",
    "print()\n",
    "for exp in k2:\n",
    "    print(result_plus[exp],exp,end=' ',sep=' ')"
   ]
  }
 ],
 "metadata": {
  "kernelspec": {
   "display_name": "Python 3",
   "language": "python",
   "name": "python3"
  },
  "toc": {
   "base_numbering": 1,
   "nav_menu": {},
   "number_sections": true,
   "sideBar": true,
   "skip_h1_title": false,
   "title_cell": "Table of Contents",
   "title_sidebar": "Contents",
   "toc_cell": false,
   "toc_position": {},
   "toc_section_display": true,
   "toc_window_display": false
  }
 },
 "nbformat": 4,
 "nbformat_minor": 4
}
