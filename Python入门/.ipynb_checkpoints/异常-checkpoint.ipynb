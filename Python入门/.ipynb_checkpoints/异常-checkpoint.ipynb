{
 "cells": [
  {
   "cell_type": "markdown",
   "metadata": {},
   "source": [
    "# 常见错误/异常类型"
   ]
  },
  {
   "cell_type": "markdown",
   "metadata": {},
   "source": [
    "1.Exception#所有异常类的基类是Exception  \n",
    "2.AttributeError#对象obj无foo成员由obj.foo引发  \n",
    "3.EOFError#一个end of file 到达控制台或者文件输入引发错误  \n",
    "4.IOError#输入或输出（比如打开文件引发的错误）  \n",
    "5.IndexError#索引超出序列范围引发错误  \n",
    "6.KeyError#不存在的字典或者集合关键字  \n",
    "7.KeyboardInterrupt#用户ctrl-c引发的错误  \n",
    "8.NameError#使用了不存在的标识符  \n",
    "9.StopIteration#下一次遍历的元素不存在所引发的错误  \n",
    "10.TypeError#函数的参数类型不正确，参数数量不正确  \n",
    "11.ValueError#参数值非法 sqrt(-5)  \n",
    "12.ZeroDivisionError#除数为0  "
   ]
  },
  {
   "cell_type": "markdown",
   "metadata": {},
   "source": [
    "# try-except结构"
   ]
  },
  {
   "cell_type": "markdown",
   "metadata": {},
   "source": [
    "## 示例1"
   ]
  },
  {
   "cell_type": "code",
   "execution_count": 28,
   "metadata": {},
   "outputs": [
    {
     "name": "stdout",
     "output_type": "stream",
     "text": [
      "IOError: [Errno 2] No such file or directory: 'hello.txt'\n"
     ]
    }
   ],
   "source": [
    "import math\n",
    "try:\n",
    "    file=open('hello.txt')\n",
    "    x=math.sqrt(-5)\n",
    "except ValueError as e:\n",
    "    print('ValueError:',e)\n",
    "except IOError as e:\n",
    "    print('IOError:',e)\n",
    "#也可以写except (ValueError,IOError)"
   ]
  },
  {
   "cell_type": "markdown",
   "metadata": {},
   "source": [
    "最后一个except可以不加错误类型"
   ]
  },
  {
   "cell_type": "markdown",
   "metadata": {},
   "source": [
    "## 示例2：用户输入检查"
   ]
  },
  {
   "cell_type": "code",
   "execution_count": 3,
   "metadata": {
    "scrolled": false
   },
   "outputs": [
    {
     "name": "stdout",
     "output_type": "stream",
     "text": [
      "Please input three integers: 1 2 3 4 \n",
      "You did not input exactly three integers!\n",
      "Please input three integers:1 3 4.1\n",
      "You have input the wrong type of the argument!\n",
      "Please input three integers:11 22\n",
      "You did not input exactly three integers!\n",
      "Please input three integers:33 4 5\n"
     ]
    }
   ],
   "source": [
    "while 1:\n",
    "    while 1:\n",
    "        try:\n",
    "            data=input('Please input three integers:')\n",
    "            a,b,c=data.split()\n",
    "            break\n",
    "        except:\n",
    "            print('You did not input exactly three integers!')\n",
    "    try:\n",
    "        a,b,c=int(a),int(b),int(c)\n",
    "        break\n",
    "    except:\n",
    "        print('You have input the wrong type of the argument!')"
   ]
  },
  {
   "cell_type": "markdown",
   "metadata": {},
   "source": [
    "## Python的异常层次结构"
   ]
  },
  {
   "cell_type": "markdown",
   "metadata": {},
   "source": [
    "所有的异常基类都是BaseException,继承于BaseException，再继承语Object "
   ]
  },
  {
   "cell_type": "code",
   "execution_count": 1,
   "metadata": {},
   "outputs": [
    {
     "name": "stdout",
     "output_type": "stream",
     "text": [
      "(<class 'KeyError'>, <class 'LookupError'>, <class 'Exception'>, <class 'BaseException'>, <class 'object'>)\n",
      "(<class 'ValueError'>, <class 'Exception'>, <class 'BaseException'>, <class 'object'>)\n",
      "(<class 'IndexError'>, <class 'LookupError'>, <class 'Exception'>, <class 'BaseException'>, <class 'object'>)\n",
      "(<class 'ZeroDivisionError'>, <class 'ArithmeticError'>, <class 'Exception'>, <class 'BaseException'>, <class 'object'>)\n",
      "(<class 'OSError'>, <class 'Exception'>, <class 'BaseException'>, <class 'object'>)\n"
     ]
    }
   ],
   "source": [
    "import inspect\n",
    "print(inspect.getmro(KeyError))\n",
    "print(inspect.getmro(ValueError))\n",
    "print(inspect.getmro(IndexError))\n",
    "print(inspect.getmro(ZeroDivisionError))\n",
    "print(inspect.getmro(IOError))"
   ]
  }
 ],
 "metadata": {
  "kernelspec": {
   "display_name": "Python 3",
   "language": "python",
   "name": "python3"
  },
  "language_info": {
   "codemirror_mode": {
    "name": "ipython",
    "version": 3
   },
   "file_extension": ".py",
   "mimetype": "text/x-python",
   "name": "python",
   "nbconvert_exporter": "python",
   "pygments_lexer": "ipython3",
   "version": "3.7.6"
  },
  "toc": {
   "base_numbering": 1,
   "nav_menu": {},
   "number_sections": true,
   "sideBar": true,
   "skip_h1_title": false,
   "title_cell": "Table of Contents",
   "title_sidebar": "Contents",
   "toc_cell": false,
   "toc_position": {
    "height": "calc(100% - 180px)",
    "left": "10px",
    "top": "150px",
    "width": "176.3px"
   },
   "toc_section_display": true,
   "toc_window_display": true
  }
 },
 "nbformat": 4,
 "nbformat_minor": 4
}
