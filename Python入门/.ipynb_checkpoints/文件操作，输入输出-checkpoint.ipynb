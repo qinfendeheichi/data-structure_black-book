{
 "cells": [
  {
   "cell_type": "markdown",
   "metadata": {},
   "source": [
    "# open(file,mode)"
   ]
  },
  {
   "cell_type": "markdown",
   "metadata": {},
   "source": [
    "## mode参数"
   ]
  },
  {
   "cell_type": "markdown",
   "metadata": {},
   "source": [
    "默认权限为'r'只读，初始位置为0  \n",
    "'w'写，初始位置为0  \n",
    "'a'尾部追加，初始位置为文件末尾\n",
    "'rb'和'wb'也可以对二进制文件进行访问"
   ]
  },
  {
   "cell_type": "markdown",
   "metadata": {},
   "source": [
    "## encoding 参数"
   ]
  },
  {
   "cell_type": "markdown",
   "metadata": {},
   "source": [
    "### GBK/GB2312"
   ]
  },
  {
   "cell_type": "markdown",
   "metadata": {},
   "source": [
    "双字节编码,汉字 "
   ]
  },
  {
   "cell_type": "markdown",
   "metadata": {},
   "source": [
    "### ucs"
   ]
  },
  {
   "cell_type": "markdown",
   "metadata": {},
   "source": [
    "范围：目前，UCS-4只是在UCS-2前面加了0x0000。"
   ]
  },
  {
   "cell_type": "markdown",
   "metadata": {},
   "source": [
    "### Unicode"
   ]
  },
  {
   "cell_type": "markdown",
   "metadata": {},
   "source": [
    "Unicode可以用来表示所有语言的字符，而且是定长双字节（也有四字节的）编码，包括英文字母在内。所以可以说它是不兼容iso8859-1编码的， 也不兼容任何编码。"
   ]
  },
  {
   "cell_type": "markdown",
   "metadata": {},
   "source": [
    "定长编码便于计算机处理（注意GB2312/GBK不是定长编码），而unicode又可以用来表示所有字符，所以在很多软件内部是使用unicode编码来处理的，比如java。"
   ]
  },
  {
   "cell_type": "markdown",
   "metadata": {},
   "source": [
    "### utf-8"
   ]
  },
  {
   "cell_type": "markdown",
   "metadata": {},
   "source": [
    "变长的比Unicode精简的版本，方便传输"
   ]
  },
  {
   "cell_type": "markdown",
   "metadata": {},
   "source": [
    "### utf-7"
   ]
  },
  {
   "cell_type": "markdown",
   "metadata": {},
   "source": [
    "应用在电子邮件传输"
   ]
  },
  {
   "cell_type": "markdown",
   "metadata": {},
   "source": [
    "## errors='ignore' 参数"
   ]
  },
  {
   "cell_type": "code",
   "execution_count": 260,
   "metadata": {},
   "outputs": [],
   "source": [
    "file=open('C:\\\\Users\\\\勤奋的黑痴\\\\Desktop\\\\test file.txt',encoding='utf-8',errors='ignore',mode='r')"
   ]
  },
  {
   "cell_type": "markdown",
   "metadata": {},
   "source": [
    "## 文件的各种方法"
   ]
  },
  {
   "cell_type": "code",
   "execution_count": 261,
   "metadata": {},
   "outputs": [],
   "source": [
    "for line in file:\n",
    "    print(line,end='')"
   ]
  },
  {
   "cell_type": "code",
   "execution_count": 262,
   "metadata": {},
   "outputs": [],
   "source": [
    "file.read()\n",
    "file.readline()#读取一行\n",
    "file.read(2)#读取2个字符\n",
    "file.seek(0)#跳转到字节位置\n",
    "file.tell()#当前字节位置\n",
    "file.read()\n",
    "file.close()"
   ]
  },
  {
   "cell_type": "code",
   "execution_count": 263,
   "metadata": {},
   "outputs": [],
   "source": [
    "file_write=open('C:\\\\Users\\\\勤奋的黑痴\\\\Desktop\\\\test1.txt',encoding='utf-8',errors='ignore',mode='w')"
   ]
  },
  {
   "cell_type": "code",
   "execution_count": 264,
   "metadata": {},
   "outputs": [],
   "source": [
    "lines=['hello,DuHang\\n','how are you?\\n','end\\n']\n",
    "file_write.writelines(lines)\n",
    "file_write.close()"
   ]
  },
  {
   "cell_type": "markdown",
   "metadata": {},
   "source": [
    "# print函数"
   ]
  },
  {
   "cell_type": "markdown",
   "metadata": {},
   "source": [
    "## end和sep参数"
   ]
  },
  {
   "cell_type": "code",
   "execution_count": 12,
   "metadata": {},
   "outputs": [
    {
     "name": "stdout",
     "output_type": "stream",
     "text": [
      "1……2\n",
      "1|2这是一个换行\n"
     ]
    }
   ],
   "source": [
    "#sep指定分隔符,默认为空格\n",
    "print(1,2,sep='……')\n",
    "#end表示输出末尾\n",
    "print(1,2,sep='|',end='这是一个换行\\n')\n",
    "#file参数 输出到一个文件"
   ]
  },
  {
   "cell_type": "markdown",
   "metadata": {},
   "source": [
    "## 重定向写文件"
   ]
  },
  {
   "cell_type": "code",
   "execution_count": 277,
   "metadata": {},
   "outputs": [],
   "source": [
    "f=open('C:\\\\Users\\\\勤奋的黑痴\\\\Desktop\\\\test1.txt','w')\n",
    "print('yes',file=f,end='')\n",
    "print(' and no',file=f)\n",
    "f.close()"
   ]
  },
  {
   "cell_type": "markdown",
   "metadata": {},
   "source": [
    "# input函数"
   ]
  },
  {
   "cell_type": "code",
   "execution_count": 17,
   "metadata": {},
   "outputs": [
    {
     "name": "stdout",
     "output_type": "stream",
     "text": [
      "how old are you？12\n",
      "He is 12 years old\n"
     ]
    }
   ],
   "source": [
    "year=int(input('how old are you？'))\n",
    "print('He is %d years old' % (year))"
   ]
  },
  {
   "cell_type": "code",
   "execution_count": null,
   "metadata": {},
   "outputs": [],
   "source": [
    "reply=input('enter x and y, separated by spaces!')\n",
    "#split的sep关键字不指定时，表示任意数量的空格分隔\n",
    "pieces=reply.split()\n",
    "print(pieces)\n",
    "print(pieces[0],pieces[1])"
   ]
  }
 ],
 "metadata": {
  "kernelspec": {
   "display_name": "Python 3",
   "language": "python",
   "name": "python3"
  },
  "language_info": {
   "codemirror_mode": {
    "name": "ipython",
    "version": 3
   },
   "file_extension": ".py",
   "mimetype": "text/x-python",
   "name": "python",
   "nbconvert_exporter": "python",
   "pygments_lexer": "ipython3",
   "version": "3.7.6"
  },
  "toc": {
   "base_numbering": 1,
   "nav_menu": {},
   "number_sections": true,
   "sideBar": true,
   "skip_h1_title": false,
   "title_cell": "Table of Contents",
   "title_sidebar": "Contents",
   "toc_cell": false,
   "toc_position": {
    "height": "calc(100% - 180px)",
    "left": "10px",
    "top": "150px",
    "width": "165px"
   },
   "toc_section_display": true,
   "toc_window_display": true
  }
 },
 "nbformat": 4,
 "nbformat_minor": 4
}
