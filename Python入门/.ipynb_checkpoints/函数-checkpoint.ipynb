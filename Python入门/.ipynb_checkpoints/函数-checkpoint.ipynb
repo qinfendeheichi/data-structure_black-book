{
 "cells": [
  {
   "cell_type": "markdown",
   "metadata": {},
   "source": [
    "# 函数"
   ]
  },
  {
   "cell_type": "markdown",
   "metadata": {},
   "source": [
    "## 参数的传递"
   ]
  },
  {
   "cell_type": "code",
   "execution_count": 29,
   "metadata": {},
   "outputs": [
    {
     "name": "stdout",
     "output_type": "stream",
     "text": [
      "[1, 2, 3]\n",
      "[1, 1, 3]\n"
     ]
    }
   ],
   "source": [
    "def x(l):\n",
    "    j=list(l)\n",
    "    j[1]=2\n",
    "    return j\n",
    "data=[1,1,3]\n",
    "print(x(data))\n",
    "print(data)"
   ]
  },
  {
   "cell_type": "code",
   "execution_count": 35,
   "metadata": {},
   "outputs": [
    {
     "name": "stdout",
     "output_type": "stream",
     "text": [
      "[1, 2, 3]\n",
      "[1, 1, 3]\n"
     ]
    }
   ],
   "source": [
    "def x(l):\n",
    "    j=list(l)\n",
    "    j[1]=2\n",
    "    return j\n",
    "data=[1,1,3]\n",
    "print(x(data))\n",
    "print(data)"
   ]
  },
  {
   "cell_type": "code",
   "execution_count": 36,
   "metadata": {
    "scrolled": true
   },
   "outputs": [
    {
     "name": "stdout",
     "output_type": "stream",
     "text": [
      "[1, 2, 3]\n",
      "[1, 1, 3]\n"
     ]
    }
   ],
   "source": [
    "def x(l):\n",
    "    j=l.copy()\n",
    "    j[1]=2\n",
    "    return j\n",
    "data=[1,1,3]\n",
    "print(x(data))\n",
    "print(data)"
   ]
  },
  {
   "cell_type": "markdown",
   "metadata": {},
   "source": [
    "## 函数的参数"
   ]
  },
  {
   "cell_type": "code",
   "execution_count": 37,
   "metadata": {},
   "outputs": [
    {
     "name": "stdout",
     "output_type": "stream",
     "text": [
      "[4, 5, 2]\n"
     ]
    }
   ],
   "source": [
    "def y(l):\n",
    "    l.append(2)\n",
    "data=[4,5]\n",
    "y(data)\n",
    "print(data)"
   ]
  },
  {
   "cell_type": "markdown",
   "metadata": {},
   "source": [
    "## 定义函数，如果一个参数具有默认值，那么它后面的参数也需要具有默认值"
   ]
  },
  {
   "cell_type": "markdown",
   "metadata": {},
   "source": [
    "## 函数的多态，且看range(start,stop,step)函数,注意只有一个值是，忽略了start，而是stop(仅提供了第二个参数，第1个参数和第三个参数都是默认参数    \n",
    "如何实现？"
   ]
  },
  {
   "cell_type": "code",
   "execution_count": 43,
   "metadata": {},
   "outputs": [
    {
     "name": "stdout",
     "output_type": "stream",
     "text": [
      "[0, 1, 2, 3]\n",
      "[1, 2, 3, 4]\n",
      "[1, 3, 5]\n"
     ]
    }
   ],
   "source": [
    "print(list(range(4)))\n",
    "print(list(range(1,5)))\n",
    "print(list(range(1,7,2)))"
   ]
  },
  {
   "cell_type": "code",
   "execution_count": 45,
   "metadata": {},
   "outputs": [],
   "source": [
    "def r(start,stop=None,step=1):\n",
    "    if stop==None:\n",
    "        stop=start\n",
    "        start=0\n",
    "    pass"
   ]
  },
  {
   "cell_type": "markdown",
   "metadata": {},
   "source": [
    "## 关键字参数,如何给函数加注释"
   ]
  },
  {
   "cell_type": "code",
   "execution_count": 1,
   "metadata": {},
   "outputs": [
    {
     "name": "stdout",
     "output_type": "stream",
     "text": [
      "-111\n",
      "3\n"
     ]
    }
   ],
   "source": [
    "data=[1,-2,34,5,-5,-111]\n",
    "def negative(x:[int,float]) -> [int,float]:\n",
    "    return -x\n",
    "negative(1)\n",
    "\n",
    "print(max(data,default=3,key=negative))\n",
    "print(max([],default=3,key=abs))"
   ]
  },
  {
   "cell_type": "markdown",
   "metadata": {},
   "source": [
    "# 内置函数"
   ]
  },
  {
   "cell_type": "markdown",
   "metadata": {},
   "source": [
    "## all(iterable,/) it signifies the end of position-only parameters."
   ]
  },
  {
   "cell_type": "code",
   "execution_count": 28,
   "metadata": {
    "scrolled": true
   },
   "outputs": [
    {
     "name": "stdout",
     "output_type": "stream",
     "text": [
      "True\n",
      "True\n",
      "编码为97的unicode是:a\n",
      "100除以7的商和余数是:(14, 2)\n",
      "对于一个对象'abc'返回散列整数值:%s -8220971231582122167\n",
      "1是否为整数或者字符串:True\n",
      "列表[12,45]的元素个数为：2\n",
      "字符a的unicode编码为:97\n",
      "[123]的类型号<class 'list'>\n"
     ]
    }
   ],
   "source": [
    "print(all([True, True,True]))\n",
    "print(any([True,False,False,False]))\n",
    "print('编码为97的unicode是:%s' % chr(97))\n",
    "print('100除以7的商和余数是:%s' % str(divmod(100,7)))\n",
    "print(\"对于一个对象'abc'返回散列整数值:%s\",hash('abc'))\n",
    "#the argument 2 of isinstance must be a tuple of types or a type\n",
    "print(\"1是否为整数或者字符串:%s\" % isinstance(1,(int,str)))\n",
    "print(\"列表[12,45]的元素个数为：%s\" % len([12,45]))\n",
    "print('字符a的unicode编码为:%s' % ord('a'))\n",
    "print(\"[123]的类型号%s\" % type([123]))"
   ]
  },
  {
   "cell_type": "code",
   "execution_count": 10,
   "metadata": {},
   "outputs": [
    {
     "name": "stdout",
     "output_type": "stream",
     "text": [
      "d\n",
      "d\n"
     ]
    }
   ],
   "source": [
    "x=input()\n",
    "print(x)"
   ]
  },
  {
   "cell_type": "markdown",
   "metadata": {},
   "source": [
    "## 哈希冲突到底如何"
   ]
  },
  {
   "cell_type": "code",
   "execution_count": 41,
   "metadata": {
    "scrolled": true
   },
   "outputs": [
    {
     "name": "stdout",
     "output_type": "stream",
     "text": [
      "哈希无冲突\n",
      "1000000000000000000\n",
      "-1000000000000000000\n",
      "哈希冲突\n",
      "776627963145224196\n",
      "-776627963145224196\n"
     ]
    }
   ],
   "source": [
    "print(\"哈希无冲突\")\n",
    "print(hash(1000000000000000000))\n",
    "print(hash(-1000000000000000000))\n",
    "\n",
    "print(\"哈希冲突\")\n",
    "print(hash(10000000000000000000))\n",
    "print(hash(-10000000000000000000))"
   ]
  }
 ],
 "metadata": {
  "kernelspec": {
   "display_name": "Python 3",
   "language": "python",
   "name": "python3"
  },
  "language_info": {
   "codemirror_mode": {
    "name": "ipython",
    "version": 3
   },
   "file_extension": ".py",
   "mimetype": "text/x-python",
   "name": "python",
   "nbconvert_exporter": "python",
   "pygments_lexer": "ipython3",
   "version": "3.7.6"
  },
  "toc": {
   "base_numbering": 1,
   "nav_menu": {},
   "number_sections": true,
   "sideBar": true,
   "skip_h1_title": false,
   "title_cell": "Table of Contents",
   "title_sidebar": "Contents",
   "toc_cell": false,
   "toc_position": {
    "height": "calc(100% - 180px)",
    "left": "10px",
    "top": "150px",
    "width": "165px"
   },
   "toc_section_display": true,
   "toc_window_display": true
  }
 },
 "nbformat": 4,
 "nbformat_minor": 4
}
