{
 "cells": [
  {
   "cell_type": "markdown",
   "metadata": {},
   "source": [
    "# 活动记录"
   ]
  },
  {
   "cell_type": "markdown",
   "metadata": {},
   "source": [
    "1. 每次调用函数时，python会创建一个专用的 活动记录 来存储当前调用的相关信息  \n",
    "2. 活动记录中包含了命名空间  \n",
    "3. 命名空间管理 当前调用 中的 局部作用域内 的所有标识符  \n",
    "4. 命名空间包括 该函数的参数 以及函数体内定义的 其他本地标识符  "
   ]
  },
  {
   "cell_type": "markdown",
   "metadata": {},
   "source": [
    "# 命名空间 "
   ]
  },
  {
   "cell_type": "markdown",
   "metadata": {},
   "source": [
    "1. python实现命名空间靠字典映射"
   ]
  },
  {
   "cell_type": "markdown",
   "metadata": {},
   "source": [
    "## 查看当前命名空间"
   ]
  },
  {
   "cell_type": "code",
   "execution_count": 1,
   "metadata": {},
   "outputs": [
    {
     "name": "stdout",
     "output_type": "stream",
     "text": [
      "i=2\n",
      "\n",
      "['In', 'Out', '_', '__', '___', '__builtin__', '__builtins__', '__doc__', '__loader__', '__name__', '__package__', '__spec__', '_dh', '_i', '_i1', '_ih', '_ii', '_iii', '_oh', 'exit', 'get_ipython', 'i', 'quit']\n",
      "\n",
      "i=2;j=3\n",
      "\n",
      "['In', 'Out', '_', '__', '___', '__builtin__', '__builtins__', '__doc__', '__loader__', '__name__', '__package__', '__spec__', '_dh', '_i', '_i1', '_ih', '_ii', '_iii', '_oh', 'exit', 'get_ipython', 'i', 'j', 'quit']\n",
      "\n",
      "i=3\n",
      "\n",
      "['In', 'Out', '_', '__', '___', '__builtin__', '__builtins__', '__doc__', '__loader__', '__name__', '__package__', '__spec__', '_dh', '_i', '_i1', '_ih', '_ii', '_iii', '_oh', 'exit', 'get_ipython', 'i', 'j', 'quit']\n",
      "\n",
      "i=3;j=3\n",
      "\n",
      "['In', 'Out', '_', '__', '___', '__builtin__', '__builtins__', '__doc__', '__loader__', '__name__', '__package__', '__spec__', '_dh', '_i', '_i1', '_ih', '_ii', '_iii', '_oh', 'exit', 'get_ipython', 'i', 'j', 'quit']\n",
      "\n"
     ]
    }
   ],
   "source": [
    "for i in [2,3]:\n",
    "    print(\"i=\",i,\"\\n\\n\",dir(),'\\n',sep='')\n",
    "    for j in [3]:\n",
    "        print(\"i=\",i,\";\",\"j=\",j,\"\\n\\n\",dir(),'\\n',sep='')"
   ]
  },
  {
   "cell_type": "markdown",
   "metadata": {},
   "source": [
    "## 标识符与命名空间"
   ]
  },
  {
   "cell_type": "markdown",
   "metadata": {},
   "source": [
    "1. 命令中指示标识符时，首先搜索本地命名空间  \n",
    "2. 如果没找到，搜索外一层的命名空间  \n",
    "3. 每一个类，每一个对象都有自己的命名空间"
   ]
  },
  {
   "cell_type": "markdown",
   "metadata": {},
   "source": [
    "## 第一类对象"
   ]
  },
  {
   "cell_type": "markdown",
   "metadata": {},
   "source": [
    "1. 第一类对象是一些可以分配给一个标识符作为参数传递或者函数返回的类型的实例  \n",
    "    例如 int，list，函数和类"
   ]
  },
  {
   "cell_type": "code",
   "execution_count": 4,
   "metadata": {},
   "outputs": [
    {
     "name": "stdout",
     "output_type": "stream",
     "text": [
      "hello\n"
     ]
    }
   ],
   "source": [
    "myprint=print\n",
    "myprint('hello')"
   ]
  },
  {
   "cell_type": "code",
   "execution_count": 8,
   "metadata": {},
   "outputs": [
    {
     "data": {
      "text/plain": [
       "-2"
      ]
     },
     "execution_count": 8,
     "metadata": {},
     "output_type": "execute_result"
    }
   ],
   "source": [
    "max(1,-2,key=abs)"
   ]
  },
  {
   "cell_type": "markdown",
   "metadata": {},
   "source": [
    "## 实例和类命名空间"
   ]
  },
  {
   "cell_type": "markdown",
   "metadata": {},
   "source": [
    "1. 基类的方法存在于基类命名空间（一个类命名空间包含所有直接在类定义体内的声明）  \n",
    "2. 子类的方法存在于子类命名空间\n",
    "3. 类数据成员（常量注意大写）在类命名空间\n",
    "3. 实例的数据成员存在于实例的命名空间  \n",
    "    eg：一些变量在/__init__函数中赋初值，self._name的self作为限定符，意味着仅在实例命名空间中"
   ]
  },
  {
   "cell_type": "markdown",
   "metadata": {},
   "source": [
    "1. 在继承后，子类实例命名空间仍然有父类实例应有的数据成员\n",
    "2. 在继承后，子类命名空间没有仅在父类定义的方法"
   ]
  },
  {
   "cell_type": "markdown",
   "metadata": {},
   "source": [
    "##"
   ]
  },
  {
   "cell_type": "markdown",
   "metadata": {},
   "source": [
    "1. 每一个标识符都有它所属的命名空间，它们之间的映射关系由字典存储：将范围内识别的名称和对象映射\n",
    "2. 如果大量的标识符对应于同一个类，这个类有一些实例变量；那么每一个实例对象的命名空间，都有"
   ]
  },
  {
   "cell_type": "markdown",
   "metadata": {},
   "source": [
    "# import"
   ]
  },
  {
   "cell_type": "markdown",
   "metadata": {},
   "source": [
    "将某模块载入当前的命名空间 "
   ]
  },
  {
   "cell_type": "markdown",
   "metadata": {},
   "source": [
    "## from x import * 和 import x的区别"
   ]
  },
  {
   "cell_type": "markdown",
   "metadata": {},
   "source": [
    "1. from x import *:  \n",
    "    模块x定义的所有的第一类对象加入到当前的命名空间，比较危险（如果和原来的本地命名空间定义的标识符存在同名的话）\n",
    "      \n",
    "2. import x:  \n",
    "    将标识符x引入当前的命名空间（模块在python中也是第一类对象），引入后可限定地访问，比较安全"
   ]
  },
  {
   "cell_type": "markdown",
   "metadata": {},
   "source": [
    "# 模块"
   ]
  },
  {
   "cell_type": "markdown",
   "metadata": {},
   "source": [
    "## 调用原理"
   ]
  },
  {
   "cell_type": "markdown",
   "metadata": {},
   "source": [
    "1. 第一次导入模块时，模块代码的顶层命令会执行\n",
    "2. 顶层命令：没有缩进的命令"
   ]
  },
  {
   "cell_type": "markdown",
   "metadata": {},
   "source": [
    "### if \\__name__=='__main__'如何理解,什么用？"
   ]
  },
  {
   "cell_type": "markdown",
   "metadata": {},
   "source": [
    "导入模块时，里面的命令不想让它执行，如果想让它在测试时执行时，可以使用"
   ]
  },
  {
   "cell_type": "markdown",
   "metadata": {},
   "source": [
    "1. 如果模块不在当前文件中，那么\\__name__是模块名\n",
    "2. 插在可以避免测试代码在模块被导入后执行。\n",
    "3. 用于单元测试:  \n",
    "    导入某个模块，但又不想改模块的部分代码被直接执行，那就可以这一部分代码放在“if __name__=='__main__':”内部,这样方便进行单元测试"
   ]
  }
 ],
 "metadata": {
  "kernelspec": {
   "display_name": "Python 3",
   "language": "python",
   "name": "python3"
  },
  "language_info": {
   "codemirror_mode": {
    "name": "ipython",
    "version": 3
   },
   "file_extension": ".py",
   "mimetype": "text/x-python",
   "name": "python",
   "nbconvert_exporter": "python",
   "pygments_lexer": "ipython3",
   "version": "3.7.6"
  },
  "toc": {
   "base_numbering": 1,
   "nav_menu": {},
   "number_sections": true,
   "sideBar": true,
   "skip_h1_title": false,
   "title_cell": "Table of Contents",
   "title_sidebar": "Contents",
   "toc_cell": false,
   "toc_position": {},
   "toc_section_display": true,
   "toc_window_display": true
  }
 },
 "nbformat": 4,
 "nbformat_minor": 4
}
