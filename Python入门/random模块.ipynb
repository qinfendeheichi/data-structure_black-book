{
 "cells": [
  {
   "cell_type": "markdown",
   "metadata": {},
   "source": [
    "# 伪随机数的生成"
   ]
  },
  {
   "cell_type": "markdown",
   "metadata": {},
   "source": [
    "一个简单的伪随机数生成器通过一个公式，基于 最近选择的一个或者一些数 和 一些参数 生成下一个数"
   ]
  },
  {
   "cell_type": "markdown",
   "metadata": {},
   "source": [
    "例如：next=(a*current+b)%n"
   ]
  },
  {
   "cell_type": "markdown",
   "metadata": {},
   "source": [
    "python使用更先进的梅森旋转算法（Mersenne Twister）"
   ]
  },
  {
   "cell_type": "markdown",
   "metadata": {},
   "source": [
    "## 种子"
   ]
  },
  {
   "cell_type": "markdown",
   "metadata": {},
   "source": [
    "由于伪随机数生成器下一个数总是由前一个数决定的，所以这样的发生器需要一个初始的数字：种子"
   ]
  },
  {
   "cell_type": "markdown",
   "metadata": {},
   "source": [
    "1. 一个给定的种子产生的序列永远相同 \n",
    "2. 如果想要在每次程序运行时，得到不同的序列，可以使用不同的种子  \n",
    "    例如：以毫秒为单位的当前系统时间作为种子"
   ]
  },
  {
   "cell_type": "markdown",
   "metadata": {},
   "source": [
    "## random模块的几个顶级函数（它们也在Random类中）"
   ]
  },
  {
   "cell_type": "markdown",
   "metadata": {},
   "source": [
    "1. seed(hashable)  \n",
    "2. random()          \n",
    "    (0.0,1.0)返回一个伪随机整数值  \n",
    "3. randint(a,b)        \n",
    "    [a,b]中返回一个伪随机整数  \n",
    "4. randrange(start,stop,step)  \n",
    "5. choice(seq)  \n",
    "6. shuffle(seq)  "
   ]
  },
  {
   "cell_type": "markdown",
   "metadata": {},
   "source": [
    "### 示例1-顶层函数"
   ]
  },
  {
   "cell_type": "code",
   "execution_count": 1,
   "metadata": {},
   "outputs": [
    {
     "name": "stdout",
     "output_type": "stream",
     "text": [
      "0.13436424411240122 0.13436424411240122\n"
     ]
    }
   ],
   "source": [
    "import random\n",
    "random.seed(1)\n",
    "x=random.random()\n",
    "random.seed(1)\n",
    "y=random.random()\n",
    "print(x,y)"
   ]
  },
  {
   "cell_type": "markdown",
   "metadata": {},
   "source": [
    "### 示例2-创造Random对象"
   ]
  },
  {
   "cell_type": "markdown",
   "metadata": {},
   "source": [
    "方便多线程地使用"
   ]
  },
  {
   "cell_type": "code",
   "execution_count": 11,
   "metadata": {},
   "outputs": [
    {
     "name": "stdout",
     "output_type": "stream",
     "text": [
      "0.30956260526239987\n",
      "0.03265043670591694\n"
     ]
    }
   ],
   "source": [
    "z1=random.Random()\n",
    "print(z1.random())\n",
    "z2=random.Random()\n",
    "print(z2.random())"
   ]
  }
 ],
 "metadata": {
  "kernelspec": {
   "display_name": "Python 3",
   "language": "python",
   "name": "python3"
  },
  "language_info": {
   "codemirror_mode": {
    "name": "ipython",
    "version": 3
   },
   "file_extension": ".py",
   "mimetype": "text/x-python",
   "name": "python",
   "nbconvert_exporter": "python",
   "pygments_lexer": "ipython3",
   "version": "3.7.6"
  },
  "toc": {
   "base_numbering": 1,
   "nav_menu": {},
   "number_sections": true,
   "sideBar": true,
   "skip_h1_title": false,
   "title_cell": "Table of Contents",
   "title_sidebar": "Contents",
   "toc_cell": false,
   "toc_position": {},
   "toc_section_display": true,
   "toc_window_display": false
  }
 },
 "nbformat": 4,
 "nbformat_minor": 4
}
