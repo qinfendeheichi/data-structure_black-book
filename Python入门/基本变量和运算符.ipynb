{
 "cells": [
  {
   "cell_type": "markdown",
   "metadata": {},
   "source": [
    "# 查看一个对象的存储位置"
   ]
  },
  {
   "cell_type": "code",
   "execution_count": 44,
   "metadata": {
    "scrolled": false
   },
   "outputs": [
    {
     "name": "stdout",
     "output_type": "stream",
     "text": [
      "140715657961968\n",
      "140715657961968\n",
      "140715657961936\n",
      "140715657961904\n",
      "140715657961968\n"
     ]
    }
   ],
   "source": [
    "x=4\n",
    "print(id(x))\n",
    "y=4\n",
    "print(id(y))\n",
    "x=3\n",
    "print(id(x))\n",
    "y=2\n",
    "print(id(y))\n",
    "x=4\n",
    "print(id(x))"
   ]
  },
  {
   "cell_type": "markdown",
   "metadata": {},
   "source": [
    "# 基本变量 "
   ]
  },
  {
   "cell_type": "code",
   "execution_count": 25,
   "metadata": {},
   "outputs": [
    {
     "name": "stdout",
     "output_type": "stream",
     "text": [
      "False 132 11 0.0\n"
     ]
    }
   ],
   "source": [
    "a=bool(0)\n",
    "b=int('132')\n",
    "c=int('01011',2)\n",
    "d=float()\n",
    "print(a,b,c,d)"
   ]
  },
  {
   "cell_type": "markdown",
   "metadata": {},
   "source": [
    "## 列表的内部存储 "
   ]
  },
  {
   "cell_type": "markdown",
   "metadata": {},
   "source": [
    "### 列表元素选择"
   ]
  },
  {
   "cell_type": "markdown",
   "metadata": {},
   "source": [
    "可以是任意对象，包括None"
   ]
  },
  {
   "cell_type": "code",
   "execution_count": 26,
   "metadata": {},
   "outputs": [
    {
     "name": "stdout",
     "output_type": "stream",
     "text": [
      "[None]\n"
     ]
    }
   ],
   "source": [
    "x=[None]\n",
    "print(x)"
   ]
  },
  {
   "cell_type": "markdown",
   "metadata": {},
   "source": [
    "### 构造函数list()"
   ]
  },
  {
   "cell_type": "markdown",
   "metadata": {},
   "source": [
    "可以接受任何可迭代类型的参数，包括所有标准容器类型：字符串，列表，元组，集合，字典"
   ]
  },
  {
   "cell_type": "code",
   "execution_count": 27,
   "metadata": {
    "scrolled": true
   },
   "outputs": [
    {
     "name": "stdout",
     "output_type": "stream",
     "text": [
      "['m', 'y', ' ', 'n', 'a', 'm', 'e']\n",
      "['m', 'y', ' ', 'n', 'a', 'm', 'e']\n",
      "['m', 'y']\n",
      "['a', 'c']\n"
     ]
    }
   ],
   "source": [
    "print(list(\"my name\"))\n",
    "print(list(list(\"my name\")))\n",
    "print(list(('m','y')))\n",
    "#字典的键值\n",
    "print(list({'a':'b','c':'d'}))"
   ]
  },
  {
   "cell_type": "markdown",
   "metadata": {},
   "source": [
    "## 元组的内部存储"
   ]
  },
  {
   "cell_type": "markdown",
   "metadata": {},
   "source": [
    "### 特殊的一元元组"
   ]
  },
  {
   "cell_type": "markdown",
   "metadata": {},
   "source": [
    "为了避免误伤认为是数值表达式"
   ]
  },
  {
   "cell_type": "code",
   "execution_count": 28,
   "metadata": {},
   "outputs": [
    {
     "name": "stdout",
     "output_type": "stream",
     "text": [
      "(1,)\n"
     ]
    }
   ],
   "source": [
    "a=1\n",
    "special=(a,)\n",
    "print(special)"
   ]
  },
  {
   "cell_type": "markdown",
   "metadata": {},
   "source": [
    "### 元组的自动打包"
   ]
  },
  {
   "cell_type": "code",
   "execution_count": 35,
   "metadata": {},
   "outputs": [
    {
     "name": "stdout",
     "output_type": "stream",
     "text": [
      "(1, 2, 3, 4)\n"
     ]
    }
   ],
   "source": [
    "data=1,2,3,4\n",
    "print(data)"
   ]
  },
  {
   "cell_type": "markdown",
   "metadata": {},
   "source": [
    "### 元组的自动解包"
   ]
  },
  {
   "cell_type": "code",
   "execution_count": 38,
   "metadata": {
    "scrolled": true
   },
   "outputs": [
    {
     "name": "stdout",
     "output_type": "stream",
     "text": [
      "1 2 3 4\n"
     ]
    }
   ],
   "source": [
    "a,b,c,d=data\n",
    "print(a,b,c,d)"
   ]
  },
  {
   "cell_type": "markdown",
   "metadata": {},
   "source": [
    "### 元组的同时分配技术"
   ]
  },
  {
   "cell_type": "markdown",
   "metadata": {},
   "source": [
    "赋值右边自动打包成一个元组，自动解包分配给左边三个变量"
   ]
  },
  {
   "cell_type": "code",
   "execution_count": 39,
   "metadata": {},
   "outputs": [],
   "source": [
    "x,y,z=1,2,3"
   ]
  },
  {
   "cell_type": "markdown",
   "metadata": {},
   "source": [
    "所有的表达式都是先计算右边的所有表达式再赋值"
   ]
  },
  {
   "cell_type": "markdown",
   "metadata": {},
   "source": [
    "右边临时自动打包成一个元组对象"
   ]
  },
  {
   "cell_type": "code",
   "execution_count": 42,
   "metadata": {},
   "outputs": [
    {
     "name": "stdout",
     "output_type": "stream",
     "text": [
      "2 1\n"
     ]
    }
   ],
   "source": [
    "x=1;y=2\n",
    "x,y=y,x\n",
    "print(x,y)"
   ]
  },
  {
   "cell_type": "markdown",
   "metadata": {},
   "source": [
    "fabonacci改写应用"
   ]
  },
  {
   "cell_type": "code",
   "execution_count": 48,
   "metadata": {},
   "outputs": [],
   "source": [
    "def fabonacci(n):\n",
    "    \"\"\"\n",
    "    n是序列的数量\n",
    "    \"\"\"\n",
    "    a=0\n",
    "    b=1\n",
    "    count=0\n",
    "    while count!=n:\n",
    "        yield a\n",
    "        a,b=b,a+b\n",
    "        count=count+1\n",
    "    return "
   ]
  },
  {
   "cell_type": "code",
   "execution_count": 49,
   "metadata": {},
   "outputs": [
    {
     "name": "stdout",
     "output_type": "stream",
     "text": [
      "0->1->1->2->3->5->8->end\n"
     ]
    }
   ],
   "source": [
    "for i in fabonacci(7):\n",
    "    print(i,end='->')\n",
    "print('end')"
   ]
  },
  {
   "cell_type": "markdown",
   "metadata": {},
   "source": [
    "## 字符串 "
   ]
  },
  {
   "cell_type": "markdown",
   "metadata": {},
   "source": [
    "### Unicode"
   ]
  },
  {
   "cell_type": "markdown",
   "metadata": {},
   "source": [
    "str类型数据采用，可使用转移字符或者unicode查表  \n",
    "参考网站：https://www.rapidtables.com/code/text/unicode-characters.html"
   ]
  },
  {
   "cell_type": "code",
   "execution_count": 29,
   "metadata": {},
   "outputs": [
    {
     "name": "stdout",
     "output_type": "stream",
     "text": [
      "ⶇ\n",
      "⛄\n",
      "░ ▒ ▓\n",
      "Ⱙ\n"
     ]
    }
   ],
   "source": [
    "print('\\u2D87')\n",
    "print('\\u26C4')\n",
    "print('\\u2591','\\u2592','\\u2593')\n",
    "print('\\u2C29')"
   ]
  },
  {
   "cell_type": "markdown",
   "metadata": {},
   "source": [
    "写文件地址，作为字符串的文件名如：'C:\\\\Python\\\\'，也是通过转义字符；  \n",
    "它实际表达的意思是：'C:\\Python\\'  "
   ]
  },
  {
   "cell_type": "markdown",
   "metadata": {},
   "source": [
    "#### \"\"\"相比\"和'有什么意义？"
   ]
  },
  {
   "cell_type": "markdown",
   "metadata": {},
   "source": [
    "在字符串的首尾出现时，换行符可以在字符串中自然地出现，没必要加\\n，这样可以提高可读性"
   ]
  },
  {
   "cell_type": "code",
   "execution_count": 30,
   "metadata": {},
   "outputs": [
    {
     "name": "stdout",
     "output_type": "stream",
     "text": [
      "C:\\Python\\\n",
      "Hello,\n",
      "my name is Du Hang\n"
     ]
    }
   ],
   "source": [
    "x='C:\\\\Python\\\\'\n",
    "print(x)\n",
    "print(\"\"\"Hello,\n",
    "my name is Du Hang\"\"\")"
   ]
  },
  {
   "cell_type": "markdown",
   "metadata": {},
   "source": [
    "## 集合"
   ]
  },
  {
   "cell_type": "markdown",
   "metadata": {},
   "source": [
    "### frozenset 和 散列"
   ]
  },
  {
   "cell_type": "markdown",
   "metadata": {},
   "source": [
    "基于散列表的数据结构，它有一个高度优化的方法检查特定元素是否在集合内"
   ]
  },
  {
   "cell_type": "markdown",
   "metadata": {},
   "source": [
    "集合内的元素应不可变，列表就不能成为集合的元素，同理因为集合可变，不存在集合的集合  \n",
    "frozenset是不可变的集合类型，所以frozenset可以成为集合的元素  \n",
    "{}不代表空集合，而是空字典 "
   ]
  },
  {
   "cell_type": "code",
   "execution_count": 31,
   "metadata": {},
   "outputs": [
    {
     "name": "stdout",
     "output_type": "stream",
     "text": [
      "frozenset({1, 2, 3, 4}) frozenset({3, 4, 5, 6})\n",
      "{frozenset({3, 4, 5, 6}), frozenset({1, 2, 3, 4})}\n"
     ]
    }
   ],
   "source": [
    "x=frozenset([1,2,3,4,])\n",
    "y=frozenset([3,4,5,6])\n",
    "print(x,y)\n",
    "z=set((x,y))\n",
    "print(z)"
   ]
  },
  {
   "cell_type": "code",
   "execution_count": 32,
   "metadata": {},
   "outputs": [
    {
     "name": "stdout",
     "output_type": "stream",
     "text": [
      "False False\n",
      "{1, 2}\n",
      "{1, 2, 3, 4}\n",
      "{3}\n",
      "{3, 4}\n"
     ]
    }
   ],
   "source": [
    "s1=set([1,2,3])\n",
    "s2=set([1,2,4])\n",
    "print(s1>s2,s2>s1)\n",
    "print(s1 & s2)\n",
    "print(s1|s2)\n",
    "print(s1-s2)\n",
    "print(s1^s2)"
   ]
  },
  {
   "cell_type": "markdown",
   "metadata": {},
   "source": [
    "## 字典"
   ]
  },
  {
   "cell_type": "markdown",
   "metadata": {},
   "source": [
    "实现字典和集合类的方式几乎相同：散列表"
   ]
  },
  {
   "cell_type": "code",
   "execution_count": 33,
   "metadata": {},
   "outputs": [
    {
     "name": "stdout",
     "output_type": "stream",
     "text": [
      "{'name': 'du hang', 'age': 21}\n",
      "{'name': 'du hang'}\n",
      "True\n",
      "True\n"
     ]
    }
   ],
   "source": [
    "d=dict()\n",
    "d['name']='du hang'\n",
    "d['age']=21\n",
    "print(d)\n",
    "del d['age']\n",
    "print(d)\n",
    "print('name' in d)\n",
    "print('age' not in d)"
   ]
  },
  {
   "cell_type": "markdown",
   "metadata": {},
   "source": [
    "# 表达式，运算符和散列表"
   ]
  },
  {
   "cell_type": "markdown",
   "metadata": {},
   "source": [
    "##  短路保护"
   ]
  },
  {
   "cell_type": "markdown",
   "metadata": {},
   "source": [
    "and,or运算符有 “短路保护”，其结果可以根据第一个操作数确定，不计算第二个，避免产生错误"
   ]
  },
  {
   "cell_type": "markdown",
   "metadata": {},
   "source": [
    "is/is not  \n",
    "==/!=的区别  \n"
   ]
  },
  {
   "cell_type": "code",
   "execution_count": 34,
   "metadata": {},
   "outputs": [
    {
     "name": "stdout",
     "output_type": "stream",
     "text": [
      "2993084919496\n",
      "2993084234696\n",
      "True\n",
      "False\n"
     ]
    }
   ],
   "source": [
    "x=[1,2,3]\n",
    "y=[1,2,3]\n",
    "print(id(x))\n",
    "print(id(y))\n",
    "print(x==y)\n",
    "print(x is y)\n",
    "#x==y强调值相同，x is y强调是同一实体"
   ]
  },
  {
   "cell_type": "markdown",
   "metadata": {},
   "source": [
    "负数的余数和整除(余数和除数保持符号一致）  \n",
    "//和%扩展到浮点数"
   ]
  },
  {
   "cell_type": "code",
   "execution_count": 35,
   "metadata": {},
   "outputs": [
    {
     "name": "stdout",
     "output_type": "stream",
     "text": [
      "-7 -1\n",
      "-7 1\n",
      "2.0 0.009999999999999787\n"
     ]
    }
   ],
   "source": [
    "print(27//(-4),27%(-4))\n",
    "print((-27)//4,(-27)%4)\n",
    "\n",
    "print(6.29//3.14,6.29%3.14)"
   ]
  },
  {
   "cell_type": "markdown",
   "metadata": {},
   "source": [
    "## 位运算符"
   ]
  },
  {
   "cell_type": "code",
   "execution_count": 36,
   "metadata": {},
   "outputs": [
    {
     "name": "stdout",
     "output_type": "stream",
     "text": [
      "[False, False, True]\n",
      "151 -152\n",
      "134\n",
      "0b10010111 0b10000110\n",
      "-11 -0b1011\n",
      "-22 -0b10110\n",
      "-6 -0b110\n"
     ]
    }
   ],
   "source": [
    "#列表之间的真值\n",
    "x=[True,False,True]\n",
    "y=[False,False,True]\n",
    "print(x and y)\n",
    "\n",
    "#整数的位运算符\n",
    "x=151\n",
    "y=134\n",
    "z=-11\n",
    "print(x,~x)\n",
    "\n",
    "print(x & y)\n",
    "print(bin(x),bin(y))\n",
    "\n",
    "print(z,bin(z))\n",
    "#左移位，用0填充\n",
    "#右移位，按符号位填充\n",
    "print(z<<1,bin(z<<1))\n",
    "print(z>>1,bin(z>>1))"
   ]
  },
  {
   "cell_type": "markdown",
   "metadata": {},
   "source": [
    "## 序列运算符"
   ]
  },
  {
   "cell_type": "code",
   "execution_count": 37,
   "metadata": {
    "scrolled": true
   },
   "outputs": [
    {
     "name": "stdout",
     "output_type": "stream",
     "text": [
      "[1, 2, 3]\n",
      "[1, 2, 3, 4, 5, 444, 333]\n",
      "[444, 333, 444, 333, 444, 333] [444, 333, 444, 333, 444, 333]\n"
     ]
    }
   ],
   "source": [
    "x=[1,2,3,4,5]\n",
    "print(x[0:3:1])\n",
    "y=[444,333]\n",
    "print(x+y)\n",
    "print(3*y,y*3)"
   ]
  },
  {
   "cell_type": "markdown",
   "metadata": {},
   "source": [
    "## 列表和集合的区别"
   ]
  },
  {
   "cell_type": "code",
   "execution_count": 38,
   "metadata": {},
   "outputs": [],
   "source": [
    "z1=list(range(10000000))\n",
    "z2=set(z1)"
   ]
  },
  {
   "cell_type": "code",
   "execution_count": 39,
   "metadata": {},
   "outputs": [
    {
     "name": "stdout",
     "output_type": "stream",
     "text": [
      "Wall time: 203 ms\n"
     ]
    },
    {
     "data": {
      "text/plain": [
       "True"
      ]
     },
     "execution_count": 39,
     "metadata": {},
     "output_type": "execute_result"
    }
   ],
   "source": [
    "%%time\n",
    "7890000 in z1"
   ]
  },
  {
   "cell_type": "code",
   "execution_count": 40,
   "metadata": {},
   "outputs": [
    {
     "name": "stdout",
     "output_type": "stream",
     "text": [
      "Wall time: 0 ns\n"
     ]
    },
    {
     "data": {
      "text/plain": [
       "True"
      ]
     },
     "execution_count": 40,
     "metadata": {},
     "output_type": "execute_result"
    }
   ],
   "source": [
    "%%time\n",
    "7890000 in z2"
   ]
  },
  {
   "cell_type": "markdown",
   "metadata": {},
   "source": [
    "## 字典序地比较"
   ]
  },
  {
   "cell_type": "code",
   "execution_count": 41,
   "metadata": {},
   "outputs": [
    {
     "name": "stdout",
     "output_type": "stream",
     "text": [
      "True\n",
      "False\n",
      "False\n",
      "True\n"
     ]
    }
   ],
   "source": [
    "print([1,2,3]<[1,2,4])\n",
    "print([1]>[3,0,0,0,0,0])\n",
    "print([1,2,3]==[1,2])\n",
    "print([1,2,3]>[1,2])"
   ]
  },
  {
   "cell_type": "markdown",
   "metadata": {},
   "source": [
    "## +=和x=x+的区别"
   ]
  },
  {
   "cell_type": "code",
   "execution_count": 42,
   "metadata": {},
   "outputs": [
    {
     "name": "stdout",
     "output_type": "stream",
     "text": [
      "[1, 2, 3, 4, 5]\n"
     ]
    }
   ],
   "source": [
    "alpha=[1,2,3]\n",
    "beta=alpha\n",
    "beta+=[4,5]#extends the original list with two more elements\n",
    "beta=beta+[6,7]#ressigns beta to a new list\n",
    "print(alpha)"
   ]
  },
  {
   "cell_type": "markdown",
   "metadata": {},
   "source": [
    "## 链接赋值"
   ]
  },
  {
   "cell_type": "code",
   "execution_count": 43,
   "metadata": {
    "scrolled": true
   },
   "outputs": [
    {
     "name": "stdout",
     "output_type": "stream",
     "text": [
      "True\n"
     ]
    }
   ],
   "source": [
    "x=1;y=4\n",
    "print(5<=x+y<=6)"
   ]
  },
  {
   "cell_type": "markdown",
   "metadata": {},
   "source": [
    "# 高级表达式"
   ]
  },
  {
   "cell_type": "markdown",
   "metadata": {},
   "source": [
    "## 条件语句"
   ]
  },
  {
   "cell_type": "code",
   "execution_count": 9,
   "metadata": {
    "scrolled": true
   },
   "outputs": [
    {
     "name": "stdout",
     "output_type": "stream",
     "text": [
      "x!=1\n"
     ]
    }
   ],
   "source": [
    "x=12\n",
    "result='x=1' if x==1 else 'x!=1'\n",
    "print(result)"
   ]
  },
  {
   "cell_type": "markdown",
   "metadata": {},
   "source": [
    "## 解析语法"
   ]
  },
  {
   "cell_type": "markdown",
   "metadata": {},
   "source": [
    "基于一个表达式产生另一个表达式"
   ]
  },
  {
   "cell_type": "code",
   "execution_count": 19,
   "metadata": {},
   "outputs": [
    {
     "name": "stdout",
     "output_type": "stream",
     "text": [
      "[4, 16, 36, 64, 100]\n"
     ]
    }
   ],
   "source": [
    "data=range(1,11)\n",
    "target=[x*x for x in data if x%2==0]\n",
    "print(target)"
   ]
  },
  {
   "cell_type": "markdown",
   "metadata": {},
   "source": [
    "一个正整数的因子列表"
   ]
  },
  {
   "cell_type": "code",
   "execution_count": 22,
   "metadata": {},
   "outputs": [
    {
     "name": "stdout",
     "output_type": "stream",
     "text": [
      "[1, 2, 4, 5, 10, 20, 25, 50, 100]\n"
     ]
    }
   ],
   "source": [
    "print([x for x in range(1,100+1) if 100%x==0])"
   ]
  },
  {
   "cell_type": "markdown",
   "metadata": {},
   "source": [
    "### 生成器解析"
   ]
  },
  {
   "cell_type": "code",
   "execution_count": 27,
   "metadata": {},
   "outputs": [
    {
     "name": "stdout",
     "output_type": "stream",
     "text": [
      "<class 'generator'>\n"
     ]
    }
   ],
   "source": [
    "i=1000\n",
    "generator_i=(x for x in range(1,i+1) if i%x==0)\n",
    "print(type(generator_i))"
   ]
  },
  {
   "cell_type": "code",
   "execution_count": 33,
   "metadata": {},
   "outputs": [
    {
     "data": {
      "text/plain": [
       "2340"
      ]
     },
     "execution_count": 33,
     "metadata": {},
     "output_type": "execute_result"
    }
   ],
   "source": []
  },
  {
   "cell_type": "markdown",
   "metadata": {},
   "source": [
    "### 字典解析 "
   ]
  },
  {
   "cell_type": "code",
   "execution_count": 30,
   "metadata": {},
   "outputs": [
    {
     "name": "stdout",
     "output_type": "stream",
     "text": [
      "{1: 1, 2: 4, 3: 9, 4: 16, 5: 25}\n"
     ]
    }
   ],
   "source": [
    "d={i:i*i for i in range(1,6)}\n",
    "print(d)"
   ]
  }
 ],
 "metadata": {
  "kernelspec": {
   "display_name": "Python 3",
   "language": "python",
   "name": "python3"
  },
  "language_info": {
   "codemirror_mode": {
    "name": "ipython",
    "version": 3
   },
   "file_extension": ".py",
   "mimetype": "text/x-python",
   "name": "python",
   "nbconvert_exporter": "python",
   "pygments_lexer": "ipython3",
   "version": "3.7.6"
  },
  "toc": {
   "base_numbering": 1,
   "nav_menu": {},
   "number_sections": true,
   "sideBar": true,
   "skip_h1_title": false,
   "title_cell": "Table of Contents",
   "title_sidebar": "Contents",
   "toc_cell": false,
   "toc_position": {
    "height": "301.5px",
    "left": "77px",
    "top": "66.6833px",
    "width": "255.467px"
   },
   "toc_section_display": true,
   "toc_window_display": true
  }
 },
 "nbformat": 4,
 "nbformat_minor": 4
}
